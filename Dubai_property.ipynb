{
  "nbformat": 4,
  "nbformat_minor": 0,
  "metadata": {
    "colab": {
      "name": "Dubai_property.ipynb",
      "provenance": [],
      "collapsed_sections": [],
      "authorship_tag": "ABX9TyOJyGR1K34vs+wv50Izx3va",
      "include_colab_link": true
    },
    "kernelspec": {
      "name": "python3",
      "display_name": "Python 3"
    },
    "language_info": {
      "name": "python"
    }
  },
  "cells": [
    {
      "cell_type": "markdown",
      "metadata": {
        "id": "view-in-github",
        "colab_type": "text"
      },
      "source": [
        "<a href=\"https://colab.research.google.com/github/k9pranav/ML_learning_and_exp/blob/main/Dubai_property.ipynb\" target=\"_parent\"><img src=\"https://colab.research.google.com/assets/colab-badge.svg\" alt=\"Open In Colab\"/></a>"
      ]
    },
    {
      "cell_type": "markdown",
      "source": [
        "I will be working with a Dataset that has data regarding property prices and property attributes of Dubai. \n",
        "\n",
        "I found the data set on Kaggle. Here is the link: https://www.kaggle.com/datasets/dataregress/dubai-properties-dataset\n",
        "\n",
        "Like states in READ.ME, this notebook acts as a playground for me to deploy ML techniques and algos that I am learning. \n",
        "\n",
        "The reason I am putting it on Github is track and showcase my progress."
      ],
      "metadata": {
        "id": "puOAsY4sL6AK"
      }
    },
    {
      "cell_type": "code",
      "source": [
        "# Uploading the dataset\n",
        "from google.colab import drive\n",
        "drive.mount('/content/drive')"
      ],
      "metadata": {
        "colab": {
          "base_uri": "https://localhost:8080/"
        },
        "id": "HZml7_4YK0i7",
        "outputId": "ddc42f78-ed0a-49b4-cc4f-fdf0b15ad6e9"
      },
      "execution_count": 2,
      "outputs": [
        {
          "output_type": "stream",
          "name": "stdout",
          "text": [
            "Mounted at /content/drive\n"
          ]
        }
      ]
    },
    {
      "cell_type": "code",
      "source": [
        "import pandas as pd \n",
        "import io\n",
        "\n",
        "df = pd.read_csv('/content/drive/MyDrive/Datasets/properties_data.csv')\n",
        "df = df.set_index('id')\n",
        "df"
      ],
      "metadata": {
        "colab": {
          "base_uri": "https://localhost:8080/",
          "height": 727
        },
        "id": "yBDL1PXmLJf7",
        "outputId": "8af3aea1-143a-4c87-d85d-ade4b31e1ee4"
      },
      "execution_count": 3,
      "outputs": [
        {
          "output_type": "execute_result",
          "data": {
            "text/plain": [
              "                              neighborhood   latitude  longitude    price  \\\n",
              "id                                                                          \n",
              "5528049                      Palm Jumeirah  25.113208  55.138932  2700000   \n",
              "6008529                      Palm Jumeirah  25.106809  55.151201  2850000   \n",
              "6034542               Jumeirah Lake Towers  25.063302  55.137728  1150000   \n",
              "6326063                    Culture Village  25.227295  55.341761  2850000   \n",
              "6356778                      Palm Jumeirah  25.114275  55.139764  1729200   \n",
              "...                                    ...        ...        ...      ...   \n",
              "7705450           Mohammed Bin Rashid City  25.176892  55.310712  1500000   \n",
              "7706287           Mohammed Bin Rashid City  25.166145  55.276684  1230000   \n",
              "7706389  Dubai Creek Harbour (The Lagoons)  25.206500  55.345056  2900000   \n",
              "7706591            Jumeirah Village Circle  25.073858  55.229844   675000   \n",
              "7706643               Jumeirah Lake Towers  25.079130  55.154713   760887   \n",
              "\n",
              "         size_in_sqft  price_per_sqft  no_of_bedrooms  no_of_bathrooms  \\\n",
              "id                                                                       \n",
              "5528049          1079         2502.32               1                2   \n",
              "6008529          1582         1801.52               2                2   \n",
              "6034542          1951          589.44               3                5   \n",
              "6326063          2020         1410.89               2                3   \n",
              "6356778           507         3410.65               0                1   \n",
              "...               ...             ...             ...              ...   \n",
              "7705450          1087         1379.94               2                2   \n",
              "7706287           760         1618.42               1                2   \n",
              "7706389          1930         1502.59               3                5   \n",
              "7706591           740          912.16               1                2   \n",
              "7706643           800          951.11               1                2   \n",
              "\n",
              "        quality  maid_room  ...  private_pool  security  shared_gym  \\\n",
              "id                          ...                                       \n",
              "5528049  Medium      False  ...         False     False        True   \n",
              "6008529  Medium      False  ...         False     False        True   \n",
              "6034542  Medium       True  ...         False      True        True   \n",
              "6326063     Low      False  ...         False     False       False   \n",
              "6356778  Medium      False  ...         False      True        True   \n",
              "...         ...        ...  ...           ...       ...         ...   \n",
              "7705450   Ultra      False  ...         False      True        True   \n",
              "7706287  Medium      False  ...         False     False        True   \n",
              "7706389  Medium       True  ...         False     False       False   \n",
              "7706591  Medium      False  ...         False      True        True   \n",
              "7706643    High      False  ...         False      True        True   \n",
              "\n",
              "         shared_pool  shared_spa  study  vastu_compliant  view_of_landmark  \\\n",
              "id                                                                           \n",
              "5528049        False       False  False            False             False   \n",
              "6008529         True       False  False            False             False   \n",
              "6034542         True       False  False            False              True   \n",
              "6326063        False       False  False            False             False   \n",
              "6356778         True        True  False            False              True   \n",
              "...              ...         ...    ...              ...               ...   \n",
              "7705450         True        True   True             True              True   \n",
              "7706287         True       False  False            False             False   \n",
              "7706389         True       False  False            False             False   \n",
              "7706591         True       False  False            False             False   \n",
              "7706643         True        True  False            False             False   \n",
              "\n",
              "         view_of_water  walk_in_closet  \n",
              "id                                      \n",
              "5528049           True           False  \n",
              "6008529           True           False  \n",
              "6034542           True            True  \n",
              "6326063          False           False  \n",
              "6356778           True           False  \n",
              "...                ...             ...  \n",
              "7705450           True            True  \n",
              "7706287           True            True  \n",
              "7706389          False           False  \n",
              "7706591           True            True  \n",
              "7706643           True           False  \n",
              "\n",
              "[1905 rows x 37 columns]"
            ],
            "text/html": [
              "\n",
              "  <div id=\"df-c1d944a5-14fb-4584-9117-369fe20876d5\">\n",
              "    <div class=\"colab-df-container\">\n",
              "      <div>\n",
              "<style scoped>\n",
              "    .dataframe tbody tr th:only-of-type {\n",
              "        vertical-align: middle;\n",
              "    }\n",
              "\n",
              "    .dataframe tbody tr th {\n",
              "        vertical-align: top;\n",
              "    }\n",
              "\n",
              "    .dataframe thead th {\n",
              "        text-align: right;\n",
              "    }\n",
              "</style>\n",
              "<table border=\"1\" class=\"dataframe\">\n",
              "  <thead>\n",
              "    <tr style=\"text-align: right;\">\n",
              "      <th></th>\n",
              "      <th>neighborhood</th>\n",
              "      <th>latitude</th>\n",
              "      <th>longitude</th>\n",
              "      <th>price</th>\n",
              "      <th>size_in_sqft</th>\n",
              "      <th>price_per_sqft</th>\n",
              "      <th>no_of_bedrooms</th>\n",
              "      <th>no_of_bathrooms</th>\n",
              "      <th>quality</th>\n",
              "      <th>maid_room</th>\n",
              "      <th>...</th>\n",
              "      <th>private_pool</th>\n",
              "      <th>security</th>\n",
              "      <th>shared_gym</th>\n",
              "      <th>shared_pool</th>\n",
              "      <th>shared_spa</th>\n",
              "      <th>study</th>\n",
              "      <th>vastu_compliant</th>\n",
              "      <th>view_of_landmark</th>\n",
              "      <th>view_of_water</th>\n",
              "      <th>walk_in_closet</th>\n",
              "    </tr>\n",
              "    <tr>\n",
              "      <th>id</th>\n",
              "      <th></th>\n",
              "      <th></th>\n",
              "      <th></th>\n",
              "      <th></th>\n",
              "      <th></th>\n",
              "      <th></th>\n",
              "      <th></th>\n",
              "      <th></th>\n",
              "      <th></th>\n",
              "      <th></th>\n",
              "      <th></th>\n",
              "      <th></th>\n",
              "      <th></th>\n",
              "      <th></th>\n",
              "      <th></th>\n",
              "      <th></th>\n",
              "      <th></th>\n",
              "      <th></th>\n",
              "      <th></th>\n",
              "      <th></th>\n",
              "      <th></th>\n",
              "    </tr>\n",
              "  </thead>\n",
              "  <tbody>\n",
              "    <tr>\n",
              "      <th>5528049</th>\n",
              "      <td>Palm Jumeirah</td>\n",
              "      <td>25.113208</td>\n",
              "      <td>55.138932</td>\n",
              "      <td>2700000</td>\n",
              "      <td>1079</td>\n",
              "      <td>2502.32</td>\n",
              "      <td>1</td>\n",
              "      <td>2</td>\n",
              "      <td>Medium</td>\n",
              "      <td>False</td>\n",
              "      <td>...</td>\n",
              "      <td>False</td>\n",
              "      <td>False</td>\n",
              "      <td>True</td>\n",
              "      <td>False</td>\n",
              "      <td>False</td>\n",
              "      <td>False</td>\n",
              "      <td>False</td>\n",
              "      <td>False</td>\n",
              "      <td>True</td>\n",
              "      <td>False</td>\n",
              "    </tr>\n",
              "    <tr>\n",
              "      <th>6008529</th>\n",
              "      <td>Palm Jumeirah</td>\n",
              "      <td>25.106809</td>\n",
              "      <td>55.151201</td>\n",
              "      <td>2850000</td>\n",
              "      <td>1582</td>\n",
              "      <td>1801.52</td>\n",
              "      <td>2</td>\n",
              "      <td>2</td>\n",
              "      <td>Medium</td>\n",
              "      <td>False</td>\n",
              "      <td>...</td>\n",
              "      <td>False</td>\n",
              "      <td>False</td>\n",
              "      <td>True</td>\n",
              "      <td>True</td>\n",
              "      <td>False</td>\n",
              "      <td>False</td>\n",
              "      <td>False</td>\n",
              "      <td>False</td>\n",
              "      <td>True</td>\n",
              "      <td>False</td>\n",
              "    </tr>\n",
              "    <tr>\n",
              "      <th>6034542</th>\n",
              "      <td>Jumeirah Lake Towers</td>\n",
              "      <td>25.063302</td>\n",
              "      <td>55.137728</td>\n",
              "      <td>1150000</td>\n",
              "      <td>1951</td>\n",
              "      <td>589.44</td>\n",
              "      <td>3</td>\n",
              "      <td>5</td>\n",
              "      <td>Medium</td>\n",
              "      <td>True</td>\n",
              "      <td>...</td>\n",
              "      <td>False</td>\n",
              "      <td>True</td>\n",
              "      <td>True</td>\n",
              "      <td>True</td>\n",
              "      <td>False</td>\n",
              "      <td>False</td>\n",
              "      <td>False</td>\n",
              "      <td>True</td>\n",
              "      <td>True</td>\n",
              "      <td>True</td>\n",
              "    </tr>\n",
              "    <tr>\n",
              "      <th>6326063</th>\n",
              "      <td>Culture Village</td>\n",
              "      <td>25.227295</td>\n",
              "      <td>55.341761</td>\n",
              "      <td>2850000</td>\n",
              "      <td>2020</td>\n",
              "      <td>1410.89</td>\n",
              "      <td>2</td>\n",
              "      <td>3</td>\n",
              "      <td>Low</td>\n",
              "      <td>False</td>\n",
              "      <td>...</td>\n",
              "      <td>False</td>\n",
              "      <td>False</td>\n",
              "      <td>False</td>\n",
              "      <td>False</td>\n",
              "      <td>False</td>\n",
              "      <td>False</td>\n",
              "      <td>False</td>\n",
              "      <td>False</td>\n",
              "      <td>False</td>\n",
              "      <td>False</td>\n",
              "    </tr>\n",
              "    <tr>\n",
              "      <th>6356778</th>\n",
              "      <td>Palm Jumeirah</td>\n",
              "      <td>25.114275</td>\n",
              "      <td>55.139764</td>\n",
              "      <td>1729200</td>\n",
              "      <td>507</td>\n",
              "      <td>3410.65</td>\n",
              "      <td>0</td>\n",
              "      <td>1</td>\n",
              "      <td>Medium</td>\n",
              "      <td>False</td>\n",
              "      <td>...</td>\n",
              "      <td>False</td>\n",
              "      <td>True</td>\n",
              "      <td>True</td>\n",
              "      <td>True</td>\n",
              "      <td>True</td>\n",
              "      <td>False</td>\n",
              "      <td>False</td>\n",
              "      <td>True</td>\n",
              "      <td>True</td>\n",
              "      <td>False</td>\n",
              "    </tr>\n",
              "    <tr>\n",
              "      <th>...</th>\n",
              "      <td>...</td>\n",
              "      <td>...</td>\n",
              "      <td>...</td>\n",
              "      <td>...</td>\n",
              "      <td>...</td>\n",
              "      <td>...</td>\n",
              "      <td>...</td>\n",
              "      <td>...</td>\n",
              "      <td>...</td>\n",
              "      <td>...</td>\n",
              "      <td>...</td>\n",
              "      <td>...</td>\n",
              "      <td>...</td>\n",
              "      <td>...</td>\n",
              "      <td>...</td>\n",
              "      <td>...</td>\n",
              "      <td>...</td>\n",
              "      <td>...</td>\n",
              "      <td>...</td>\n",
              "      <td>...</td>\n",
              "      <td>...</td>\n",
              "    </tr>\n",
              "    <tr>\n",
              "      <th>7705450</th>\n",
              "      <td>Mohammed Bin Rashid City</td>\n",
              "      <td>25.176892</td>\n",
              "      <td>55.310712</td>\n",
              "      <td>1500000</td>\n",
              "      <td>1087</td>\n",
              "      <td>1379.94</td>\n",
              "      <td>2</td>\n",
              "      <td>2</td>\n",
              "      <td>Ultra</td>\n",
              "      <td>False</td>\n",
              "      <td>...</td>\n",
              "      <td>False</td>\n",
              "      <td>True</td>\n",
              "      <td>True</td>\n",
              "      <td>True</td>\n",
              "      <td>True</td>\n",
              "      <td>True</td>\n",
              "      <td>True</td>\n",
              "      <td>True</td>\n",
              "      <td>True</td>\n",
              "      <td>True</td>\n",
              "    </tr>\n",
              "    <tr>\n",
              "      <th>7706287</th>\n",
              "      <td>Mohammed Bin Rashid City</td>\n",
              "      <td>25.166145</td>\n",
              "      <td>55.276684</td>\n",
              "      <td>1230000</td>\n",
              "      <td>760</td>\n",
              "      <td>1618.42</td>\n",
              "      <td>1</td>\n",
              "      <td>2</td>\n",
              "      <td>Medium</td>\n",
              "      <td>False</td>\n",
              "      <td>...</td>\n",
              "      <td>False</td>\n",
              "      <td>False</td>\n",
              "      <td>True</td>\n",
              "      <td>True</td>\n",
              "      <td>False</td>\n",
              "      <td>False</td>\n",
              "      <td>False</td>\n",
              "      <td>False</td>\n",
              "      <td>True</td>\n",
              "      <td>True</td>\n",
              "    </tr>\n",
              "    <tr>\n",
              "      <th>7706389</th>\n",
              "      <td>Dubai Creek Harbour (The Lagoons)</td>\n",
              "      <td>25.206500</td>\n",
              "      <td>55.345056</td>\n",
              "      <td>2900000</td>\n",
              "      <td>1930</td>\n",
              "      <td>1502.59</td>\n",
              "      <td>3</td>\n",
              "      <td>5</td>\n",
              "      <td>Medium</td>\n",
              "      <td>True</td>\n",
              "      <td>...</td>\n",
              "      <td>False</td>\n",
              "      <td>False</td>\n",
              "      <td>False</td>\n",
              "      <td>True</td>\n",
              "      <td>False</td>\n",
              "      <td>False</td>\n",
              "      <td>False</td>\n",
              "      <td>False</td>\n",
              "      <td>False</td>\n",
              "      <td>False</td>\n",
              "    </tr>\n",
              "    <tr>\n",
              "      <th>7706591</th>\n",
              "      <td>Jumeirah Village Circle</td>\n",
              "      <td>25.073858</td>\n",
              "      <td>55.229844</td>\n",
              "      <td>675000</td>\n",
              "      <td>740</td>\n",
              "      <td>912.16</td>\n",
              "      <td>1</td>\n",
              "      <td>2</td>\n",
              "      <td>Medium</td>\n",
              "      <td>False</td>\n",
              "      <td>...</td>\n",
              "      <td>False</td>\n",
              "      <td>True</td>\n",
              "      <td>True</td>\n",
              "      <td>True</td>\n",
              "      <td>False</td>\n",
              "      <td>False</td>\n",
              "      <td>False</td>\n",
              "      <td>False</td>\n",
              "      <td>True</td>\n",
              "      <td>True</td>\n",
              "    </tr>\n",
              "    <tr>\n",
              "      <th>7706643</th>\n",
              "      <td>Jumeirah Lake Towers</td>\n",
              "      <td>25.079130</td>\n",
              "      <td>55.154713</td>\n",
              "      <td>760887</td>\n",
              "      <td>800</td>\n",
              "      <td>951.11</td>\n",
              "      <td>1</td>\n",
              "      <td>2</td>\n",
              "      <td>High</td>\n",
              "      <td>False</td>\n",
              "      <td>...</td>\n",
              "      <td>False</td>\n",
              "      <td>True</td>\n",
              "      <td>True</td>\n",
              "      <td>True</td>\n",
              "      <td>True</td>\n",
              "      <td>False</td>\n",
              "      <td>False</td>\n",
              "      <td>False</td>\n",
              "      <td>True</td>\n",
              "      <td>False</td>\n",
              "    </tr>\n",
              "  </tbody>\n",
              "</table>\n",
              "<p>1905 rows × 37 columns</p>\n",
              "</div>\n",
              "      <button class=\"colab-df-convert\" onclick=\"convertToInteractive('df-c1d944a5-14fb-4584-9117-369fe20876d5')\"\n",
              "              title=\"Convert this dataframe to an interactive table.\"\n",
              "              style=\"display:none;\">\n",
              "        \n",
              "  <svg xmlns=\"http://www.w3.org/2000/svg\" height=\"24px\"viewBox=\"0 0 24 24\"\n",
              "       width=\"24px\">\n",
              "    <path d=\"M0 0h24v24H0V0z\" fill=\"none\"/>\n",
              "    <path d=\"M18.56 5.44l.94 2.06.94-2.06 2.06-.94-2.06-.94-.94-2.06-.94 2.06-2.06.94zm-11 1L8.5 8.5l.94-2.06 2.06-.94-2.06-.94L8.5 2.5l-.94 2.06-2.06.94zm10 10l.94 2.06.94-2.06 2.06-.94-2.06-.94-.94-2.06-.94 2.06-2.06.94z\"/><path d=\"M17.41 7.96l-1.37-1.37c-.4-.4-.92-.59-1.43-.59-.52 0-1.04.2-1.43.59L10.3 9.45l-7.72 7.72c-.78.78-.78 2.05 0 2.83L4 21.41c.39.39.9.59 1.41.59.51 0 1.02-.2 1.41-.59l7.78-7.78 2.81-2.81c.8-.78.8-2.07 0-2.86zM5.41 20L4 18.59l7.72-7.72 1.47 1.35L5.41 20z\"/>\n",
              "  </svg>\n",
              "      </button>\n",
              "      \n",
              "  <style>\n",
              "    .colab-df-container {\n",
              "      display:flex;\n",
              "      flex-wrap:wrap;\n",
              "      gap: 12px;\n",
              "    }\n",
              "\n",
              "    .colab-df-convert {\n",
              "      background-color: #E8F0FE;\n",
              "      border: none;\n",
              "      border-radius: 50%;\n",
              "      cursor: pointer;\n",
              "      display: none;\n",
              "      fill: #1967D2;\n",
              "      height: 32px;\n",
              "      padding: 0 0 0 0;\n",
              "      width: 32px;\n",
              "    }\n",
              "\n",
              "    .colab-df-convert:hover {\n",
              "      background-color: #E2EBFA;\n",
              "      box-shadow: 0px 1px 2px rgba(60, 64, 67, 0.3), 0px 1px 3px 1px rgba(60, 64, 67, 0.15);\n",
              "      fill: #174EA6;\n",
              "    }\n",
              "\n",
              "    [theme=dark] .colab-df-convert {\n",
              "      background-color: #3B4455;\n",
              "      fill: #D2E3FC;\n",
              "    }\n",
              "\n",
              "    [theme=dark] .colab-df-convert:hover {\n",
              "      background-color: #434B5C;\n",
              "      box-shadow: 0px 1px 3px 1px rgba(0, 0, 0, 0.15);\n",
              "      filter: drop-shadow(0px 1px 2px rgba(0, 0, 0, 0.3));\n",
              "      fill: #FFFFFF;\n",
              "    }\n",
              "  </style>\n",
              "\n",
              "      <script>\n",
              "        const buttonEl =\n",
              "          document.querySelector('#df-c1d944a5-14fb-4584-9117-369fe20876d5 button.colab-df-convert');\n",
              "        buttonEl.style.display =\n",
              "          google.colab.kernel.accessAllowed ? 'block' : 'none';\n",
              "\n",
              "        async function convertToInteractive(key) {\n",
              "          const element = document.querySelector('#df-c1d944a5-14fb-4584-9117-369fe20876d5');\n",
              "          const dataTable =\n",
              "            await google.colab.kernel.invokeFunction('convertToInteractive',\n",
              "                                                     [key], {});\n",
              "          if (!dataTable) return;\n",
              "\n",
              "          const docLinkHtml = 'Like what you see? Visit the ' +\n",
              "            '<a target=\"_blank\" href=https://colab.research.google.com/notebooks/data_table.ipynb>data table notebook</a>'\n",
              "            + ' to learn more about interactive tables.';\n",
              "          element.innerHTML = '';\n",
              "          dataTable['output_type'] = 'display_data';\n",
              "          await google.colab.output.renderOutput(dataTable, element);\n",
              "          const docLink = document.createElement('div');\n",
              "          docLink.innerHTML = docLinkHtml;\n",
              "          element.appendChild(docLink);\n",
              "        }\n",
              "      </script>\n",
              "    </div>\n",
              "  </div>\n",
              "  "
            ]
          },
          "metadata": {},
          "execution_count": 3
        }
      ]
    },
    {
      "cell_type": "code",
      "source": [
        "import matplotlib.pyplot as plt\n",
        "\n",
        "df.hist(bins = 50, figsize = (12,8))\n",
        "plt.show"
      ],
      "metadata": {
        "colab": {
          "base_uri": "https://localhost:8080/",
          "height": 516
        },
        "id": "U5QNTwN5NKfF",
        "outputId": "2088d4fd-4918-4e8a-802f-256033d20db4"
      },
      "execution_count": 4,
      "outputs": [
        {
          "output_type": "execute_result",
          "data": {
            "text/plain": [
              "<function matplotlib.pyplot.show>"
            ]
          },
          "metadata": {},
          "execution_count": 4
        },
        {
          "output_type": "display_data",
          "data": {
            "text/plain": [
              "<Figure size 864x576 with 9 Axes>"
            ],
            "image/png": "[encoded data removed]"
          },
          "metadata": {
            "needs_background": "light"
          }
        }
      ]
    },
    {
      "cell_type": "code",
      "source": [
        "import numpy as np\n",
        "df['size_cut'] = pd.qcut(df['size_in_sqft'], q = [0., 0.2, 0.4, 0.6, 0.8, 1.], labels = [1,2,3,4,5])\n",
        "\n",
        "df['size_cut'].value_counts().sort_index().plot.bar(grid = True)\n",
        "plt.xlabel('Price Category')\n",
        "plt.ylabel('Number of Apartments')\n",
        "plt.show()"
      ],
      "metadata": {
        "colab": {
          "base_uri": "https://localhost:8080/",
          "height": 280
        },
        "id": "TjYAHjxwNKhd",
        "outputId": "10dd5cec-dd5d-48d5-e40e-67cb7ae45424"
      },
      "execution_count": 5,
      "outputs": [
        {
          "output_type": "display_data",
          "data": {
            "text/plain": [
              "<Figure size 432x288 with 1 Axes>"
            ],
            "image/png": "[encoded data removed]"
          },
          "metadata": {
            "needs_background": "light"
          }
        }
      ]
    },
    {
      "cell_type": "code",
      "source": [
        "from sklearn.model_selection import train_test_split\n",
        "\n",
        "strat_train_set, strat_test_set = train_test_split(df, test_size = 0.2, stratify = df['size_cut'])"
      ],
      "metadata": {
        "id": "9mu9J9p1NKjr"
      },
      "execution_count": 6,
      "outputs": []
    },
    {
      "cell_type": "code",
      "source": [
        "for i in (strat_train_set, strat_test_set):\n",
        "  i.drop('size_cut', axis = 1, inplace=True)"
      ],
      "metadata": {
        "id": "V4ePZb-gNKly"
      },
      "execution_count": 7,
      "outputs": []
    },
    {
      "cell_type": "code",
      "source": [
        "dubai = strat_train_set.copy()\n",
        "\n",
        "dubai.plot(kind = 'scatter', x = 'longitude', y = 'latitude', grid = True, alpha = 0.2)\n",
        "plt.show()"
      ],
      "metadata": {
        "colab": {
          "base_uri": "https://localhost:8080/",
          "height": 279
        },
        "id": "vkouVmKpCSpj",
        "outputId": "c3280101-c52b-4532-8e7c-172e8948eccf"
      },
      "execution_count": 8,
      "outputs": [
        {
          "output_type": "display_data",
          "data": {
            "text/plain": [
              "<Figure size 432x288 with 1 Axes>"
            ],
            "image/png": "[encoded data removed]"
          },
          "metadata": {
            "needs_background": "light"
          }
        }
      ]
    },
    {
      "cell_type": "code",
      "source": [
        "corr_matrix = dubai.corr()\n",
        "corr_matrix['price'].sort_values()"
      ],
      "metadata": {
        "colab": {
          "base_uri": "https://localhost:8080/"
        },
        "id": "IgjOArRxDoT1",
        "outputId": "241fb515-30fa-42c4-97fc-cb24f7c5c598"
      },
      "execution_count": 9,
      "outputs": [
        {
          "output_type": "execute_result",
          "data": {
            "text/plain": [
              "pets_allowed          -0.106990\n",
              "lobby_in_building     -0.106292\n",
              "shared_pool           -0.105299\n",
              "childrens_play_area   -0.104924\n",
              "childrens_pool        -0.102294\n",
              "vastu_compliant       -0.089621\n",
              "security              -0.088827\n",
              "networked             -0.085619\n",
              "barbecue_area         -0.081187\n",
              "shared_gym            -0.080922\n",
              "study                 -0.041498\n",
              "longitude             -0.033307\n",
              "kitchen_appliances    -0.017267\n",
              "shared_spa            -0.001224\n",
              "walk_in_closet         0.000544\n",
              "view_of_landmark       0.005852\n",
              "central_ac             0.010890\n",
              "covered_parking        0.013003\n",
              "balcony                0.018201\n",
              "built_in_wardrobes     0.019240\n",
              "maid_service           0.022735\n",
              "unfurnished            0.031045\n",
              "private_garden         0.056073\n",
              "private_jacuzzi        0.095938\n",
              "maid_room              0.096645\n",
              "private_gym            0.106427\n",
              "view_of_water          0.109374\n",
              "concierge              0.122957\n",
              "latitude               0.187711\n",
              "private_pool           0.363572\n",
              "no_of_bedrooms         0.505738\n",
              "no_of_bathrooms        0.512398\n",
              "price_per_sqft         0.697980\n",
              "size_in_sqft           0.807061\n",
              "price                  1.000000\n",
              "Name: price, dtype: float64"
            ]
          },
          "metadata": {},
          "execution_count": 9
        }
      ]
    },
    {
      "cell_type": "code",
      "source": [
        "from pandas.plotting import scatter_matrix\n",
        "\n",
        "attributes = ['private_pool', 'no_of_bathrooms', 'no_of_bedrooms', 'size_in_sqft']\n",
        "\n",
        "scatter_matrix(dubai[['size_in_sqft', 'price_per_sqft', 'latitude']])\n",
        "plt.show()"
      ],
      "metadata": {
        "colab": {
          "base_uri": "https://localhost:8080/",
          "height": 290
        },
        "id": "JNSDEngdDoWJ",
        "outputId": "5634ca64-a37c-4af9-e26d-ce037f96101a"
      },
      "execution_count": 10,
      "outputs": [
        {
          "output_type": "display_data",
          "data": {
            "text/plain": [
              "<Figure size 432x288 with 9 Axes>"
            ],
            "image/png": "[encoded data removed]"
          },
          "metadata": {
            "needs_background": "light"
          }
        }
      ]
    },
    {
      "cell_type": "code",
      "source": [
        "scale_mapper = {'Low':1, 'Medium':2, 'High': 3, 'Ultra': 4}\n",
        "\n",
        "dubai['quality'] = df['quality'].replace(scale_mapper)\n",
        "\n"
      ],
      "metadata": {
        "id": "k1Y3tK6RDoYY"
      },
      "execution_count": 11,
      "outputs": []
    },
    {
      "cell_type": "code",
      "source": [
        "dubai_exp = dubai.copy()\n",
        "from sklearn.metrics.pairwise import rbf_kernel\n",
        "\n",
        "dubai_exp = rbf_kernel(dubai_exp[[\"latitude\"]], [[25.075]], gamma=0.1)\n",
        "\n",
        "dubai_exp\n",
        "\n"
      ],
      "metadata": {
        "id": "jwLr1PDyDoby",
        "colab": {
          "base_uri": "https://localhost:8080/"
        },
        "outputId": "970a039f-6de8-4d7d-80cc-445dcad4e863"
      },
      "execution_count": 12,
      "outputs": [
        {
          "output_type": "execute_result",
          "data": {
            "text/plain": [
              "array([[0.99997741],\n",
              "       [0.99987635],\n",
              "       [0.99999873],\n",
              "       ...,\n",
              "       [0.99991452],\n",
              "       [0.99986168],\n",
              "       [0.99999873]])"
            ]
          },
          "metadata": {},
          "execution_count": 12
        }
      ]
    },
    {
      "cell_type": "code",
      "source": [
        "# Housing is dubai data, without the independent variable, price\n",
        "# Housing label is just the price of column\n",
        "housing = dubai.drop('price', axis = 1)\n",
        "housing_label = dubai['price'].copy()\n",
        "\n",
        "plt.scatter(housing['size_in_sqft'], housing_label)\n",
        "plt.show()"
      ],
      "metadata": {
        "colab": {
          "base_uri": "https://localhost:8080/",
          "height": 276
        },
        "id": "4DOP3QNvAWnb",
        "outputId": "898da946-e0dd-4b1c-c1f8-dbba5b86bae4"
      },
      "execution_count": 13,
      "outputs": [
        {
          "output_type": "display_data",
          "data": {
            "text/plain": [
              "<Figure size 432x288 with 1 Axes>"
            ],
            "image/png": "[encoded data removed]"
          },
          "metadata": {
            "needs_background": "light"
          }
        }
      ]
    },
    {
      "cell_type": "code",
      "source": [
        "# Feature Engineering: Standardization. Sometimes, the range of the values of the attributes \n",
        "# is too much/varied, which decreases the validity/accuracy of model/predictions\n",
        "# so we scale the variables. Here I have used standardization to scale the values.\n",
        "# Here, I have scaled both the dependent and independent variables\n",
        "\n",
        "from sklearn.compose import TransformedTargetRegressor\n",
        "from sklearn.linear_model import LinearRegression\n",
        "from sklearn.preprocessing import StandardScaler\n",
        "\n",
        "some_new_data = dubai[['size_in_sqft']].iloc[:5]\n",
        "\n",
        "model = TransformedTargetRegressor(LinearRegression(), \n",
        "                                   transformer = StandardScaler())\n",
        "\n",
        "model.fit(housing[['size_in_sqft']], housing_label)\n",
        "predictions = model.predict(some_new_data)"
      ],
      "metadata": {
        "id": "0BvY6zlc-hu4"
      },
      "execution_count": 14,
      "outputs": []
    },
    {
      "cell_type": "code",
      "source": [
        "type(housing['size_in_sqft'])"
      ],
      "metadata": {
        "colab": {
          "base_uri": "https://localhost:8080/"
        },
        "id": "NTeKYSjGVYTH",
        "outputId": "2c5bad0d-6ea5-448a-987a-4f21eb26b06a"
      },
      "execution_count": 15,
      "outputs": [
        {
          "output_type": "execute_result",
          "data": {
            "text/plain": [
              "pandas.core.series.Series"
            ]
          },
          "metadata": {},
          "execution_count": 15
        }
      ]
    },
    {
      "cell_type": "code",
      "source": [
        "# Custom Transformers\n",
        "# Sometimes, the transformation that are required while scaling may not be available. \n",
        "# So we have to create our own \n",
        "# Here, I have used Function Transformer\n",
        "\n",
        "from sklearn.preprocessing import FunctionTransformer\n",
        "\n",
        "log_transformer = FunctionTransformer(np.log)\n",
        "\n",
        "log_size_sqft = log_transformer.transform(housing[['size_in_sqft']])"
      ],
      "metadata": {
        "id": "hZSH6N3UNpV_"
      },
      "execution_count": 16,
      "outputs": []
    },
    {
      "cell_type": "code",
      "source": [
        "from sklearn.utils.validation import check_is_fitted\n",
        "from sklearn.base import BaseEstimator, TransformerMixin\n",
        "from sklearn.utils.validation import check_array, check_is_fitted\n",
        "# Creating a custom transformer using class\n",
        "# Here, I have tried to create a custom class for min-max scaling\n",
        "# between the range -1 and 1\n",
        "\n",
        "class MinMaxClone(BaseEstimator, TransformerMixin):\n",
        "\n",
        "  def __init__(self):  \n",
        "    pass\n",
        "\n",
        "  def fit(self, X, y=None):\n",
        "    self.min = X.min()\n",
        "    self.max = X.max() \n",
        "    self.n_features_in_ = X.shape[1]\n",
        "    return self \n",
        "\n",
        "  def transform(self, X):\n",
        "    check_is_fitted(self)  # looks for learned attributes (with trailing _)\n",
        "    X = check_array(X)\n",
        "    assert self.n_features_in_ == X.shape[1]\n",
        "    return (-1 + (2*(X - self.min))/(self.max - self.min))\n",
        "\n"
      ],
      "metadata": {
        "id": "4fh96lWGfjBG"
      },
      "execution_count": 17,
      "outputs": []
    },
    {
      "cell_type": "code",
      "source": [
        "housing_num = housing.select_dtypes(include=[np.number])\n",
        "housing_cat = housing.select_dtypes(include=[np.object])\n",
        "\n"
      ],
      "metadata": {
        "colab": {
          "base_uri": "https://localhost:8080/"
        },
        "id": "uQZz-e9uBJAc",
        "outputId": "2918e644-5410-4a23-b178-0ecadc702d64"
      },
      "execution_count": 18,
      "outputs": [
        {
          "output_type": "stream",
          "name": "stderr",
          "text": [
            "/usr/local/lib/python3.7/dist-packages/ipykernel_launcher.py:2: DeprecationWarning: `np.object` is a deprecated alias for the builtin `object`. To silence this warning, use `object` by itself. Doing this will not modify any behavior and is safe. \n",
            "Deprecated in NumPy 1.20; for more details and guidance: https://numpy.org/devdocs/release/1.20.0-notes.html#deprecations\n",
            "  \n"
          ]
        }
      ]
    },
    {
      "cell_type": "code",
      "source": [
        "from sklearn.pipeline import Pipeline\n",
        "from sklearn.impute import SimpleImputer\n",
        "\n",
        "num_pipeline = Pipeline([\n",
        "    ('impute', SimpleImputer(strategy = 'median')),\n",
        "    ('standardize', StandardScaler()),\n",
        "])\n",
        "\n",
        "from sklearn.pipeline import make_pipeline\n",
        "\n",
        "num_pipeline = make_pipeline(SimpleImputer(strategy = 'median'), StandardScaler())\n",
        "\n",
        "# As SimpleImputer Does not have get_feature_names_out method, I had to add it\n",
        "# In this case, I used the get_feature_names_out from standardscaler\n",
        "SimpleImputer.get_feature_names_out = StandardScaler.get_feature_names_out\n",
        "\n",
        "housing_num_prepared = num_pipeline.fit_transform(housing_num)\n",
        "\n"
      ],
      "metadata": {
        "id": "M_1TRPZEsIUM"
      },
      "execution_count": 19,
      "outputs": []
    },
    {
      "cell_type": "code",
      "source": [
        "from sklearn.preprocessing import OneHotEncoder\n",
        "from sklearn.compose import ColumnTransformer\n",
        "from sklearn.compose import make_column_transformer\n",
        "from sklearn.compose import make_column_selector\n",
        "\n",
        "# Dividing the data into continuous and numerical data\n",
        "housing_num = housing.select_dtypes(include=[np.number]).columns\n",
        "housing_cat = housing.select_dtypes(include=[np.object]).columns\n",
        "\n",
        "# Getting the names of the columns \n",
        "num_cols = housing_num.to_list()\n",
        "cat_cols = housing_cat.to_list()\n",
        "\n",
        "cat_pipeline = Pipeline([\n",
        "    ('impute', SimpleImputer(strategy = 'most_frequent')),\n",
        "    ('onehot', OneHotEncoder(handle_unknown = 'ignore')),\n",
        "])\n",
        "\n",
        "num_pipeline = Pipeline([\n",
        "    ('impute', SimpleImputer(strategy = 'median')),\n",
        "    ('standardize', StandardScaler()),\n",
        "])\n",
        "\n",
        "preprocessing = ColumnTransformer([\n",
        "    ('num_pipe', num_pipeline, housing_num),\n",
        "    ('cat_pipe', cat_pipeline, housing_cat)\n",
        "])\n",
        "\n",
        "\n"
      ],
      "metadata": {
        "colab": {
          "base_uri": "https://localhost:8080/"
        },
        "id": "ytd3w72OJCBU",
        "outputId": "67445a4a-d5c3-4569-e2f7-1ac9e47cf321"
      },
      "execution_count": 26,
      "outputs": [
        {
          "output_type": "stream",
          "name": "stderr",
          "text": [
            "/usr/local/lib/python3.7/dist-packages/ipykernel_launcher.py:8: DeprecationWarning: `np.object` is a deprecated alias for the builtin `object`. To silence this warning, use `object` by itself. Doing this will not modify any behavior and is safe. \n",
            "Deprecated in NumPy 1.20; for more details and guidance: https://numpy.org/devdocs/release/1.20.0-notes.html#deprecations\n",
            "  \n"
          ]
        }
      ]
    },
    {
      "cell_type": "code",
      "source": [
        "housing_all = preprocessing.fit_transform(housing)\n",
        "all_df = pd.DataFrame(housing_all.toarray(), columns = preprocessing.get_feature_names_out())"
      ],
      "metadata": {
        "id": "M3D06SaLc4SC"
      },
      "execution_count": 27,
      "outputs": []
    },
    {
      "cell_type": "code",
      "source": [
        "housing_labels = strat_train_set[\"price\"].copy()\n",
        "\n",
        "housing_labels"
      ],
      "metadata": {
        "colab": {
          "base_uri": "https://localhost:8080/"
        },
        "id": "dvHLUT3Wbvkg",
        "outputId": "faa13f5d-853f-4c32-f094-2030ee7b0e04"
      },
      "execution_count": 28,
      "outputs": [
        {
          "output_type": "execute_result",
          "data": {
            "text/plain": [
              "id\n",
              "7700305    1750000\n",
              "7416326    3600000\n",
              "7700259    1250000\n",
              "7580761    1300000\n",
              "7568118    1575000\n",
              "            ...   \n",
              "7622469    2000000\n",
              "7553094     700000\n",
              "7621220     650000\n",
              "7499263     876888\n",
              "7701686    1500000\n",
              "Name: price, Length: 1524, dtype: int64"
            ]
          },
          "metadata": {},
          "execution_count": 28
        }
      ]
    },
    {
      "cell_type": "code",
      "source": [
        "from sklearn.linear_model import LinearRegression\n",
        "\n",
        "lin_reg = make_pipeline(preprocessing, LinearRegression())\n",
        "lin_reg.fit(housing, housing_labels)\n",
        "\n",
        "housing_predictions = lin_reg.predict(housing)"
      ],
      "metadata": {
        "id": "AMmtyDW3Z1BY"
      },
      "execution_count": 29,
      "outputs": []
    },
    {
      "cell_type": "code",
      "source": [
        "from sklearn.metrics import mean_squared_error\n",
        "\n",
        "lin_rsme = mean_squared_error(housing_labels, housing_predictions, squared=False)"
      ],
      "metadata": {
        "id": "4aR2_JzFZj31"
      },
      "execution_count": 30,
      "outputs": []
    },
    {
      "cell_type": "code",
      "source": [
        "from sklearn.tree import DecisionTreeRegressor\n",
        "from sklearn.model_selection import cross_val_score\n",
        "\n",
        "tree_reg = make_pipeline(preprocessing, DecisionTreeRegressor(random_state = 42))\n",
        "tree_reg.fit(housing, housing_labels)\n",
        "\n",
        "housing_predictions = tree_reg.predict(housing)\n",
        "tree_rsme = mean_squared_error(housing_labels, housing_predictions, squared = False)\n",
        "\n",
        "tree_rsme\n"
      ],
      "metadata": {
        "colab": {
          "base_uri": "https://localhost:8080/"
        },
        "id": "LbyjQBdCZj6I",
        "outputId": "579323b7-e70f-4fda-de23-5d80fb215b86"
      },
      "execution_count": 31,
      "outputs": [
        {
          "output_type": "execute_result",
          "data": {
            "text/plain": [
              "0.03622617780011092"
            ]
          },
          "metadata": {},
          "execution_count": 31
        }
      ]
    },
    {
      "cell_type": "code",
      "source": [
        "# Cross validation\n",
        "\n",
        "from sklearn.model_selection import cross_val_score\n",
        "\n",
        "tree_rsme = cross_val_score(tree_reg, housing, housing_labels, scoring = 'neg_root_mean_squared_error', cv = 10)"
      ],
      "metadata": {
        "id": "D9OZSubIZj8s"
      },
      "execution_count": 32,
      "outputs": []
    },
    {
      "cell_type": "code",
      "source": [
        "pd.Series(tree_rsme).describe()"
      ],
      "metadata": {
        "id": "u0ccGAEYZj_C",
        "colab": {
          "base_uri": "https://localhost:8080/"
        },
        "outputId": "2074f56e-2e0b-429f-948e-3a68e5b8eaf4"
      },
      "execution_count": 33,
      "outputs": [
        {
          "output_type": "execute_result",
          "data": {
            "text/plain": [
              "count    1.000000e+01\n",
              "mean    -6.831538e+05\n",
              "std      6.005739e+05\n",
              "min     -2.204604e+06\n",
              "25%     -7.203925e+05\n",
              "50%     -4.738530e+05\n",
              "75%     -4.125166e+05\n",
              "max     -1.024438e+05\n",
              "dtype: float64"
            ]
          },
          "metadata": {},
          "execution_count": 33
        }
      ]
    },
    {
      "cell_type": "code",
      "source": [
        "from sklearn.ensemble import RandomForestRegressor\n",
        "\n",
        "forest_reg = make_pipeline(preprocessing, RandomForestRegressor(random_state = 42))\n",
        "\n",
        "forest_rsme = -cross_val_score(forest_reg, housing, housing_labels, scoring = 'neg_root_mean_squared_error', cv = 10)\n",
        "\n",
        "pd.Series(forest_rsme).describe()"
      ],
      "metadata": {
        "id": "WZ71zY_MZkCn",
        "colab": {
          "base_uri": "https://localhost:8080/"
        },
        "outputId": "6897b966-be59-406e-ae0b-a2f7cfb401f0"
      },
      "execution_count": 34,
      "outputs": [
        {
          "output_type": "execute_result",
          "data": {
            "text/plain": [
              "count    1.000000e+01\n",
              "mean     4.120486e+05\n",
              "std      3.231218e+05\n",
              "min      7.629529e+04\n",
              "25%      1.948604e+05\n",
              "50%      2.952878e+05\n",
              "75%      5.755779e+05\n",
              "max      1.147032e+06\n",
              "dtype: float64"
            ]
          },
          "metadata": {},
          "execution_count": 34
        }
      ]
    },
    {
      "cell_type": "code",
      "source": [
        "from sklearn.model_selection import GridSearchCV\n",
        "\n",
        "full_pipeline = Pipeline([\n",
        "    ('preprocessing', preprocessing), \n",
        "    ('randomforest', RandomForestRegressor(random_state = 42)),\n",
        "    ])\n",
        "\n",
        "param_grid = [\n",
        "    {'randomforest__max_features': [4, 6, 8]},\n",
        "    {'randomforest__max_features': [6, 8, 10]},\n",
        "]\n",
        "\n",
        "grid_search = GridSearchCV(full_pipeline, param_grid, cv=3, scoring = 'neg_root_mean_squared_error')\n",
        "\n",
        "grid_search.fit(housing, housing_labels)\n"
      ],
      "metadata": {
        "id": "3pH2c15WZ1E-",
        "colab": {
          "base_uri": "https://localhost:8080/"
        },
        "outputId": "8dc3591f-caa4-4315-a20c-8ba9269d89c4"
      },
      "execution_count": 36,
      "outputs": [
        {
          "output_type": "execute_result",
          "data": {
            "text/plain": [
              "GridSearchCV(cv=3,\n",
              "             estimator=Pipeline(steps=[('preprocessing',\n",
              "                                        ColumnTransformer(transformers=[('num_pipe',\n",
              "                                                                         Pipeline(steps=[('impute',\n",
              "                                                                                          SimpleImputer(strategy='median')),\n",
              "                                                                                         ('standardize',\n",
              "                                                                                          StandardScaler())]),\n",
              "                                                                         Index(['latitude', 'longitude', 'size_in_sqft', 'price_per_sqft',\n",
              "       'no_of_bedrooms', 'no_of_bathrooms', 'quality'],\n",
              "      dtype='object')),\n",
              "                                                                        ('cat_pipe',\n",
              "                                                                         Pipeline(steps=[('impute',\n",
              "                                                                                          SimpleImputer(strategy='most_frequent')),\n",
              "                                                                                         ('onehot',\n",
              "                                                                                          OneHotEncoder(handle_unknown='ignore'))]),\n",
              "                                                                         Index(['neighborhood'], dtype='object'))])),\n",
              "                                       ('randomforest',\n",
              "                                        RandomForestRegressor(random_state=42))]),\n",
              "             param_grid=[{'randomforest__max_features': [4, 6, 8]},\n",
              "                         {'randomforest__max_features': [6, 8, 10]}],\n",
              "             scoring='neg_root_mean_squared_error')"
            ]
          },
          "metadata": {},
          "execution_count": 36
        }
      ]
    },
    {
      "cell_type": "code",
      "source": [
        "cv_res = pd.DataFrame(grid_search.cv_results_)\n",
        "cv_res.sort_values('rank_test_score')"
      ],
      "metadata": {
        "colab": {
          "base_uri": "https://localhost:8080/",
          "height": 406
        },
        "id": "H1dxS7kOmHTF",
        "outputId": "d34f97b6-e0c5-4799-c77e-b828a5461ebc"
      },
      "execution_count": 42,
      "outputs": [
        {
          "output_type": "execute_result",
          "data": {
            "text/plain": [
              "   mean_fit_time  std_fit_time  mean_score_time  std_score_time  \\\n",
              "5       0.544485      0.015997         0.028610        0.001634   \n",
              "2       0.615802      0.148532         0.026784        0.000263   \n",
              "4       0.514920      0.001524         0.028401        0.000046   \n",
              "1       1.318014      0.092044         0.076965        0.008742   \n",
              "3       0.489763      0.005453         0.027103        0.000346   \n",
              "0       0.872162      0.182733         0.065550        0.030702   \n",
              "\n",
              "  param_randomforest__max_features                              params  \\\n",
              "5                               10  {'randomforest__max_features': 10}   \n",
              "2                                8   {'randomforest__max_features': 8}   \n",
              "4                                8   {'randomforest__max_features': 8}   \n",
              "1                                6   {'randomforest__max_features': 6}   \n",
              "3                                6   {'randomforest__max_features': 6}   \n",
              "0                                4   {'randomforest__max_features': 4}   \n",
              "\n",
              "   split0_test_score  split1_test_score  split2_test_score  mean_test_score  \\\n",
              "5     -460554.380098      -1.278523e+06     -626358.808544   -788478.706274   \n",
              "2     -505608.161530      -1.257378e+06     -667548.293154   -810178.114747   \n",
              "4     -505608.161530      -1.257378e+06     -667548.293154   -810178.114747   \n",
              "1     -545966.998319      -1.285933e+06     -659361.953105   -830420.570035   \n",
              "3     -545966.998319      -1.285933e+06     -659361.953105   -830420.570035   \n",
              "0     -542651.848394      -1.312594e+06     -659993.259897   -838413.123274   \n",
              "\n",
              "   std_test_score  rank_test_score  \n",
              "5   353063.056843                1  \n",
              "2   323055.083539                2  \n",
              "4   323055.083539                2  \n",
              "1   325405.510553                4  \n",
              "3   325405.510553                4  \n",
              "0   338701.506366                6  "
            ],
            "text/html": [
              "\n",
              "  <div id=\"df-5f2bbbc8-70bb-4b14-9569-0c146f5b7953\">\n",
              "    <div class=\"colab-df-container\">\n",
              "      <div>\n",
              "<style scoped>\n",
              "    .dataframe tbody tr th:only-of-type {\n",
              "        vertical-align: middle;\n",
              "    }\n",
              "\n",
              "    .dataframe tbody tr th {\n",
              "        vertical-align: top;\n",
              "    }\n",
              "\n",
              "    .dataframe thead th {\n",
              "        text-align: right;\n",
              "    }\n",
              "</style>\n",
              "<table border=\"1\" class=\"dataframe\">\n",
              "  <thead>\n",
              "    <tr style=\"text-align: right;\">\n",
              "      <th></th>\n",
              "      <th>mean_fit_time</th>\n",
              "      <th>std_fit_time</th>\n",
              "      <th>mean_score_time</th>\n",
              "      <th>std_score_time</th>\n",
              "      <th>param_randomforest__max_features</th>\n",
              "      <th>params</th>\n",
              "      <th>split0_test_score</th>\n",
              "      <th>split1_test_score</th>\n",
              "      <th>split2_test_score</th>\n",
              "      <th>mean_test_score</th>\n",
              "      <th>std_test_score</th>\n",
              "      <th>rank_test_score</th>\n",
              "    </tr>\n",
              "  </thead>\n",
              "  <tbody>\n",
              "    <tr>\n",
              "      <th>5</th>\n",
              "      <td>0.544485</td>\n",
              "      <td>0.015997</td>\n",
              "      <td>0.028610</td>\n",
              "      <td>0.001634</td>\n",
              "      <td>10</td>\n",
              "      <td>{'randomforest__max_features': 10}</td>\n",
              "      <td>-460554.380098</td>\n",
              "      <td>-1.278523e+06</td>\n",
              "      <td>-626358.808544</td>\n",
              "      <td>-788478.706274</td>\n",
              "      <td>353063.056843</td>\n",
              "      <td>1</td>\n",
              "    </tr>\n",
              "    <tr>\n",
              "      <th>2</th>\n",
              "      <td>0.615802</td>\n",
              "      <td>0.148532</td>\n",
              "      <td>0.026784</td>\n",
              "      <td>0.000263</td>\n",
              "      <td>8</td>\n",
              "      <td>{'randomforest__max_features': 8}</td>\n",
              "      <td>-505608.161530</td>\n",
              "      <td>-1.257378e+06</td>\n",
              "      <td>-667548.293154</td>\n",
              "      <td>-810178.114747</td>\n",
              "      <td>323055.083539</td>\n",
              "      <td>2</td>\n",
              "    </tr>\n",
              "    <tr>\n",
              "      <th>4</th>\n",
              "      <td>0.514920</td>\n",
              "      <td>0.001524</td>\n",
              "      <td>0.028401</td>\n",
              "      <td>0.000046</td>\n",
              "      <td>8</td>\n",
              "      <td>{'randomforest__max_features': 8}</td>\n",
              "      <td>-505608.161530</td>\n",
              "      <td>-1.257378e+06</td>\n",
              "      <td>-667548.293154</td>\n",
              "      <td>-810178.114747</td>\n",
              "      <td>323055.083539</td>\n",
              "      <td>2</td>\n",
              "    </tr>\n",
              "    <tr>\n",
              "      <th>1</th>\n",
              "      <td>1.318014</td>\n",
              "      <td>0.092044</td>\n",
              "      <td>0.076965</td>\n",
              "      <td>0.008742</td>\n",
              "      <td>6</td>\n",
              "      <td>{'randomforest__max_features': 6}</td>\n",
              "      <td>-545966.998319</td>\n",
              "      <td>-1.285933e+06</td>\n",
              "      <td>-659361.953105</td>\n",
              "      <td>-830420.570035</td>\n",
              "      <td>325405.510553</td>\n",
              "      <td>4</td>\n",
              "    </tr>\n",
              "    <tr>\n",
              "      <th>3</th>\n",
              "      <td>0.489763</td>\n",
              "      <td>0.005453</td>\n",
              "      <td>0.027103</td>\n",
              "      <td>0.000346</td>\n",
              "      <td>6</td>\n",
              "      <td>{'randomforest__max_features': 6}</td>\n",
              "      <td>-545966.998319</td>\n",
              "      <td>-1.285933e+06</td>\n",
              "      <td>-659361.953105</td>\n",
              "      <td>-830420.570035</td>\n",
              "      <td>325405.510553</td>\n",
              "      <td>4</td>\n",
              "    </tr>\n",
              "    <tr>\n",
              "      <th>0</th>\n",
              "      <td>0.872162</td>\n",
              "      <td>0.182733</td>\n",
              "      <td>0.065550</td>\n",
              "      <td>0.030702</td>\n",
              "      <td>4</td>\n",
              "      <td>{'randomforest__max_features': 4}</td>\n",
              "      <td>-542651.848394</td>\n",
              "      <td>-1.312594e+06</td>\n",
              "      <td>-659993.259897</td>\n",
              "      <td>-838413.123274</td>\n",
              "      <td>338701.506366</td>\n",
              "      <td>6</td>\n",
              "    </tr>\n",
              "  </tbody>\n",
              "</table>\n",
              "</div>\n",
              "      <button class=\"colab-df-convert\" onclick=\"convertToInteractive('df-5f2bbbc8-70bb-4b14-9569-0c146f5b7953')\"\n",
              "              title=\"Convert this dataframe to an interactive table.\"\n",
              "              style=\"display:none;\">\n",
              "        \n",
              "  <svg xmlns=\"http://www.w3.org/2000/svg\" height=\"24px\"viewBox=\"0 0 24 24\"\n",
              "       width=\"24px\">\n",
              "    <path d=\"M0 0h24v24H0V0z\" fill=\"none\"/>\n",
              "    <path d=\"M18.56 5.44l.94 2.06.94-2.06 2.06-.94-2.06-.94-.94-2.06-.94 2.06-2.06.94zm-11 1L8.5 8.5l.94-2.06 2.06-.94-2.06-.94L8.5 2.5l-.94 2.06-2.06.94zm10 10l.94 2.06.94-2.06 2.06-.94-2.06-.94-.94-2.06-.94 2.06-2.06.94z\"/><path d=\"M17.41 7.96l-1.37-1.37c-.4-.4-.92-.59-1.43-.59-.52 0-1.04.2-1.43.59L10.3 9.45l-7.72 7.72c-.78.78-.78 2.05 0 2.83L4 21.41c.39.39.9.59 1.41.59.51 0 1.02-.2 1.41-.59l7.78-7.78 2.81-2.81c.8-.78.8-2.07 0-2.86zM5.41 20L4 18.59l7.72-7.72 1.47 1.35L5.41 20z\"/>\n",
              "  </svg>\n",
              "      </button>\n",
              "      \n",
              "  <style>\n",
              "    .colab-df-container {\n",
              "      display:flex;\n",
              "      flex-wrap:wrap;\n",
              "      gap: 12px;\n",
              "    }\n",
              "\n",
              "    .colab-df-convert {\n",
              "      background-color: #E8F0FE;\n",
              "      border: none;\n",
              "      border-radius: 50%;\n",
              "      cursor: pointer;\n",
              "      display: none;\n",
              "      fill: #1967D2;\n",
              "      height: 32px;\n",
              "      padding: 0 0 0 0;\n",
              "      width: 32px;\n",
              "    }\n",
              "\n",
              "    .colab-df-convert:hover {\n",
              "      background-color: #E2EBFA;\n",
              "      box-shadow: 0px 1px 2px rgba(60, 64, 67, 0.3), 0px 1px 3px 1px rgba(60, 64, 67, 0.15);\n",
              "      fill: #174EA6;\n",
              "    }\n",
              "\n",
              "    [theme=dark] .colab-df-convert {\n",
              "      background-color: #3B4455;\n",
              "      fill: #D2E3FC;\n",
              "    }\n",
              "\n",
              "    [theme=dark] .colab-df-convert:hover {\n",
              "      background-color: #434B5C;\n",
              "      box-shadow: 0px 1px 3px 1px rgba(0, 0, 0, 0.15);\n",
              "      filter: drop-shadow(0px 1px 2px rgba(0, 0, 0, 0.3));\n",
              "      fill: #FFFFFF;\n",
              "    }\n",
              "  </style>\n",
              "\n",
              "      <script>\n",
              "        const buttonEl =\n",
              "          document.querySelector('#df-5f2bbbc8-70bb-4b14-9569-0c146f5b7953 button.colab-df-convert');\n",
              "        buttonEl.style.display =\n",
              "          google.colab.kernel.accessAllowed ? 'block' : 'none';\n",
              "\n",
              "        async function convertToInteractive(key) {\n",
              "          const element = document.querySelector('#df-5f2bbbc8-70bb-4b14-9569-0c146f5b7953');\n",
              "          const dataTable =\n",
              "            await google.colab.kernel.invokeFunction('convertToInteractive',\n",
              "                                                     [key], {});\n",
              "          if (!dataTable) return;\n",
              "\n",
              "          const docLinkHtml = 'Like what you see? Visit the ' +\n",
              "            '<a target=\"_blank\" href=https://colab.research.google.com/notebooks/data_table.ipynb>data table notebook</a>'\n",
              "            + ' to learn more about interactive tables.';\n",
              "          element.innerHTML = '';\n",
              "          dataTable['output_type'] = 'display_data';\n",
              "          await google.colab.output.renderOutput(dataTable, element);\n",
              "          const docLink = document.createElement('div');\n",
              "          docLink.innerHTML = docLinkHtml;\n",
              "          element.appendChild(docLink);\n",
              "        }\n",
              "      </script>\n",
              "    </div>\n",
              "  </div>\n",
              "  "
            ]
          },
          "metadata": {},
          "execution_count": 42
        }
      ]
    },
    {
      "cell_type": "code",
      "source": [
        "from sklearn.model_selection import RandomizedSearchCV\n",
        "from scipy.stats import randint\n",
        "\n",
        "param_distribs = {'randomforest__max_features':randint(low = 2, high = 4)}\n",
        "\n",
        "rnd_search = RandomizedSearchCV(full_pipeline, param_distributions = param_distribs, n_iter = 10, cv = 3, \n",
        "                                scoring = 'neg_root_mean_squared_error', random_state = 42)\n",
        "\n",
        "rnd_search.fit(housing, housing_labels)"
      ],
      "metadata": {
        "colab": {
          "base_uri": "https://localhost:8080/"
        },
        "id": "Qg0UvgWzL3Jv",
        "outputId": "e95bbb7c-21ad-4356-f95d-d68356e6f4d9"
      },
      "execution_count": 43,
      "outputs": [
        {
          "output_type": "execute_result",
          "data": {
            "text/plain": [
              "RandomizedSearchCV(cv=3,\n",
              "                   estimator=Pipeline(steps=[('preprocessing',\n",
              "                                              ColumnTransformer(transformers=[('num_pipe',\n",
              "                                                                               Pipeline(steps=[('impute',\n",
              "                                                                                                SimpleImputer(strategy='median')),\n",
              "                                                                                               ('standardize',\n",
              "                                                                                                StandardScaler())]),\n",
              "                                                                               Index(['latitude', 'longitude', 'size_in_sqft', 'price_per_sqft',\n",
              "       'no_of_bedrooms', 'no_of_bathrooms', 'quality'],\n",
              "      dtype='object')),\n",
              "                                                                              ('cat_pipe',\n",
              "                                                                               Pipelin...\n",
              "                                                                                                SimpleImputer(strategy='most_frequent')),\n",
              "                                                                                               ('onehot',\n",
              "                                                                                                OneHotEncoder(handle_unknown='ignore'))]),\n",
              "                                                                               Index(['neighborhood'], dtype='object'))])),\n",
              "                                             ('randomforest',\n",
              "                                              RandomForestRegressor(random_state=42))]),\n",
              "                   param_distributions={'randomforest__max_features': <scipy.stats._distn_infrastructure.rv_frozen object at 0x7fa5eb0d6250>},\n",
              "                   random_state=42, scoring='neg_root_mean_squared_error')"
            ]
          },
          "metadata": {},
          "execution_count": 43
        }
      ]
    },
    {
      "cell_type": "code",
      "source": [
        "final_model = rnd_search.best_estimator_\n",
        "\n",
        "feature_importances = final_model['randomforest'].feature_importances_\n",
        "feature_importances.round(2)"
      ],
      "metadata": {
        "colab": {
          "base_uri": "https://localhost:8080/"
        },
        "id": "TRDm5Qa8L3Q8",
        "outputId": "614fbd16-e7fb-49a0-8f9d-b7ea7844040d"
      },
      "execution_count": 45,
      "outputs": [
        {
          "output_type": "execute_result",
          "data": {
            "text/plain": [
              "array([0.07, 0.07, 0.26, 0.23, 0.15, 0.11, 0.02, 0.  , 0.  , 0.  , 0.  ,\n",
              "       0.  , 0.  , 0.  , 0.  , 0.  , 0.  , 0.  , 0.  , 0.  , 0.  , 0.  ,\n",
              "       0.01, 0.  , 0.  , 0.  , 0.  , 0.  , 0.  , 0.01, 0.  , 0.  , 0.  ,\n",
              "       0.  , 0.  , 0.  , 0.  , 0.  , 0.  , 0.  , 0.01, 0.01, 0.  , 0.  ,\n",
              "       0.  , 0.  , 0.  , 0.  , 0.  , 0.  , 0.  , 0.  , 0.  , 0.04, 0.  ,\n",
              "       0.  , 0.  , 0.  , 0.  , 0.  ])"
            ]
          },
          "metadata": {},
          "execution_count": 45
        }
      ]
    },
    {
      "cell_type": "code",
      "source": [
        "sorted(zip(feature_importances,\n",
        "           final_model['preprocessing'].get_feature_names_out()),\n",
        "           reverse=True)\n"
      ],
      "metadata": {
        "colab": {
          "base_uri": "https://localhost:8080/"
        },
        "id": "c8QQsggXPmvD",
        "outputId": "d4fb1322-1596-41b1-c18f-72c2b5842d56"
      },
      "execution_count": 46,
      "outputs": [
        {
          "output_type": "execute_result",
          "data": {
            "text/plain": [
              "[(0.25946005074249495, 'num_pipe__size_in_sqft'),\n",
              " (0.2286920225986573, 'num_pipe__price_per_sqft'),\n",
              " (0.14558858131961014, 'num_pipe__no_of_bedrooms'),\n",
              " (0.11272976109625485, 'num_pipe__no_of_bathrooms'),\n",
              " (0.07300934374975356, 'num_pipe__longitude'),\n",
              " (0.07192356814331345, 'num_pipe__latitude'),\n",
              " (0.03718396921595071, 'cat_pipe__neighborhood_Palm Jumeirah'),\n",
              " (0.018415573731393194, 'num_pipe__quality'),\n",
              " (0.009823819504281175, 'cat_pipe__neighborhood_Jumeirah'),\n",
              " (0.007602357736661024, 'cat_pipe__neighborhood_Downtown Dubai'),\n",
              " (0.00632105486265189, 'cat_pipe__neighborhood_Dubai Marina'),\n",
              " (0.0050846669806698455, 'cat_pipe__neighborhood_Jumeirah Beach Residence'),\n",
              " (0.004207176679544921, 'cat_pipe__neighborhood_Jumeirah Village Circle'),\n",
              " (0.0030088399708784372, 'cat_pipe__neighborhood_Business Bay'),\n",
              " (0.0020953894871473546, 'cat_pipe__neighborhood_Jumeirah Lake Towers'),\n",
              " (0.0019876529955198717, 'cat_pipe__neighborhood_Culture Village'),\n",
              " (0.0008145008566956598, 'cat_pipe__neighborhood_Al Barari'),\n",
              " (0.000814447666567074, 'cat_pipe__neighborhood_Dubai Hills Estate'),\n",
              " (0.0007365396278803034, 'cat_pipe__neighborhood_Greens'),\n",
              " (0.0007085269660774958, 'cat_pipe__neighborhood_Al Furjan'),\n",
              " (0.0006771091851179655,\n",
              "  'cat_pipe__neighborhood_Dubai Creek Harbour (The Lagoons)'),\n",
              " (0.0006744308919421721, 'cat_pipe__neighborhood_Town Square'),\n",
              " (0.0006396191649615161, 'cat_pipe__neighborhood_City Walk'),\n",
              " (0.0006069698574012144, 'cat_pipe__neighborhood_Meydan'),\n",
              " (0.0005606952869777063, 'cat_pipe__neighborhood_Dubai Sports City'),\n",
              " (0.0004979200008709122, 'cat_pipe__neighborhood_Dubai Festival City'),\n",
              " (0.0004791734560448595, 'cat_pipe__neighborhood_DIFC'),\n",
              " (0.0004471291538818671, 'cat_pipe__neighborhood_Dubai Silicon Oasis'),\n",
              " (0.00040568273645454083, 'cat_pipe__neighborhood_The Views'),\n",
              " (0.0003990361589791265, 'cat_pipe__neighborhood_Mirdif'),\n",
              " (0.0003618912501405784, 'cat_pipe__neighborhood_World Trade Center'),\n",
              " (0.0003470404976566029, 'cat_pipe__neighborhood_Dubai Harbour'),\n",
              " (0.0003434922473178671, 'cat_pipe__neighborhood_Motor City'),\n",
              " (0.00030501488404856666, 'cat_pipe__neighborhood_The Hills'),\n",
              " (0.0002916134387169349, 'cat_pipe__neighborhood_DAMAC Hills'),\n",
              " (0.00028353666710843645, 'cat_pipe__neighborhood_Dubai Land'),\n",
              " (0.0002480589506913435, 'cat_pipe__neighborhood_International City'),\n",
              " (0.0002005528977387608, 'cat_pipe__neighborhood_Remraam'),\n",
              " (0.00019799710023104525, 'cat_pipe__neighborhood_Discovery Gardens'),\n",
              " (0.00019390488674226534, 'cat_pipe__neighborhood_Mohammed Bin Rashid City'),\n",
              " (0.0001632314665603231, 'cat_pipe__neighborhood_Old Town'),\n",
              " (0.00015915026904951018, 'cat_pipe__neighborhood_Al Sufouh'),\n",
              " (0.0001546363516537801, 'cat_pipe__neighborhood_Arjan'),\n",
              " (0.00014600618335437168,\n",
              "  'cat_pipe__neighborhood_Dubai South (Dubai World Central)'),\n",
              " (0.00014400808091921067,\n",
              "  'cat_pipe__neighborhood_Dubai Production City (IMPZ)'),\n",
              " (0.0001337178343291713, 'cat_pipe__neighborhood_Barsha Heights (Tecom)'),\n",
              " (0.00012764457566012197, 'cat_pipe__neighborhood_Umm Suqeim'),\n",
              " (8.948521851421145e-05, 'cat_pipe__neighborhood_Bluewaters'),\n",
              " (7.034526250221156e-05, 'cat_pipe__neighborhood_Dubai Healthcare City'),\n",
              " (6.977576629371476e-05, 'cat_pipe__neighborhood_Jebel Ali'),\n",
              " (5.337838465560424e-05, 'cat_pipe__neighborhood_Al Kifaf'),\n",
              " (5.309015578021348e-05, 'cat_pipe__neighborhood_Green Community'),\n",
              " (4.5643342182357e-05, 'cat_pipe__neighborhood_Dubai Residence Complex'),\n",
              " (4.481447711384423e-05, 'cat_pipe__neighborhood_Falcon City of Wonders'),\n",
              " (4.320230150305333e-05, 'cat_pipe__neighborhood_Mina Rashid'),\n",
              " (4.1288235520326144e-05, 'cat_pipe__neighborhood_Al Quoz'),\n",
              " (4.02712073673592e-05, 'cat_pipe__neighborhood_Al Barsha'),\n",
              " (2.277261717077143e-05, 'cat_pipe__neighborhood_Jumeirah Village Triangle'),\n",
              " (2.1582591177799244e-05, 'cat_pipe__neighborhood_Mudon'),\n",
              " (7.243033664335678e-06, 'cat_pipe__neighborhood_Jumeirah Golf Estates')]"
            ]
          },
          "metadata": {},
          "execution_count": 46
        }
      ]
    },
    {
      "cell_type": "code",
      "source": [
        "X_test = strat_test_set.drop(\"price\", axis=1)\n",
        "\n",
        "scale_mapper = {'Low':1, 'Medium':2, 'High': 3, 'Ultra': 4}\n",
        "X_test['quality'] = X_test['quality'].replace(scale_mapper)\n",
        "\n",
        "y_test = strat_test_set[\"price\"].copy()\n",
        "\n",
        "final_predictions = final_model.predict(X_test)\n",
        "\n",
        "final_rsme = mean_squared_error(y_test, final_predictions, squared=False)\n",
        "print(final_rsme)"
      ],
      "metadata": {
        "colab": {
          "base_uri": "https://localhost:8080/"
        },
        "id": "FKIjXXSyPmyj",
        "outputId": "bc86d0cf-bb52-452d-ec4d-bd3da6812fe8"
      },
      "execution_count": 57,
      "outputs": [
        {
          "output_type": "stream",
          "name": "stdout",
          "text": [
            "976326.3972132829\n"
          ]
        }
      ]
    },
    {
      "cell_type": "code",
      "source": [
        "from scipy import stats\n",
        "confidence = 0.95\n",
        "\n",
        "squared_errors = (final_predictions - y_test)**2\n",
        "\n",
        "np.sqrt(stats.t.interval(confidence, len(squared_errors) - 1,\n",
        "                         loc = squared_errors.mean(),\n",
        "                         scale = stats.sem(squared_errors)))\n"
      ],
      "metadata": {
        "colab": {
          "base_uri": "https://localhost:8080/"
        },
        "id": "-qLvCZsUaevo",
        "outputId": "69973936-1a87-42fb-be05-1b36b2f2e52a"
      },
      "execution_count": 58,
      "outputs": [
        {
          "output_type": "stream",
          "name": "stderr",
          "text": [
            "/usr/local/lib/python3.7/dist-packages/ipykernel_launcher.py:8: RuntimeWarning: invalid value encountered in sqrt\n",
            "  \n"
          ]
        },
        {
          "output_type": "execute_result",
          "data": {
            "text/plain": [
              "array([             nan, 1495268.74550853])"
            ]
          },
          "metadata": {},
          "execution_count": 58
        }
      ]
    },
    {
      "cell_type": "code",
      "source": [
        "import joblib \n",
        "\n",
        "joblib.dump(final_model, 'my_dubai_housing_model.pkl')\n"
      ],
      "metadata": {
        "colab": {
          "base_uri": "https://localhost:8080/"
        },
        "id": "LMMDAHLsbFv1",
        "outputId": "bfa08940-6d66-4a94-9b1f-12e12e47a329"
      },
      "execution_count": 59,
      "outputs": [
        {
          "output_type": "execute_result",
          "data": {
            "text/plain": [
              "['my_dubai_housing_model.pkl']"
            ]
          },
          "metadata": {},
          "execution_count": 59
        }
      ]
    }
  ]
}
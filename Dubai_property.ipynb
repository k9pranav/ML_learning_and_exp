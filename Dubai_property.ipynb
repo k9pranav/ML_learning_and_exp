{
  "nbformat": 4,
  "nbformat_minor": 0,
  "metadata": {
    "colab": {
      "name": "Dubai_property.ipynb",
      "provenance": [],
      "collapsed_sections": [],
      "authorship_tag": "ABX9TyMbomEFGJ06JRUP4E60/SNR",
      "include_colab_link": true
    },
    "kernelspec": {
      "name": "python3",
      "display_name": "Python 3"
    },
    "language_info": {
      "name": "python"
    }
  },
  "cells": [
    {
      "cell_type": "markdown",
      "metadata": {
        "id": "view-in-github",
        "colab_type": "text"
      },
      "source": [
        "<a href=\"https://colab.research.google.com/github/k9pranav/ML_learning_and_exp/blob/main/Dubai_property.ipynb\" target=\"_parent\"><img src=\"https://colab.research.google.com/assets/colab-badge.svg\" alt=\"Open In Colab\"/></a>"
      ]
    },
    {
      "cell_type": "markdown",
      "source": [
        "I will be working with a Dataset that has data regarding property prices and property attributes of Dubai. \n",
        "\n",
        "I found the data set on Kaggle. Here is the link: https://www.kaggle.com/datasets/dataregress/dubai-properties-dataset\n",
        "\n",
        "Like states in READ.ME, this notebook acts as a playground for me to deploy ML techniques and algos that I am learning. \n",
        "\n",
        "The reason I am putting it on Github is track and showcase my progress."
      ],
      "metadata": {
        "id": "puOAsY4sL6AK"
      }
    },
    {
      "cell_type": "code",
      "source": [
        "# Uploading the dataset\n",
        "from google.colab import drive\n",
        "drive.mount('/content/drive')"
      ],
      "metadata": {
        "colab": {
          "base_uri": "https://localhost:8080/"
        },
        "id": "HZml7_4YK0i7",
        "outputId": "14ec6c23-744e-4e12-e547-75a99431264c"
      },
      "execution_count": 1,
      "outputs": [
        {
          "output_type": "stream",
          "name": "stdout",
          "text": [
            "Mounted at /content/drive\n"
          ]
        }
      ]
    },
    {
      "cell_type": "code",
      "source": [
        "import pandas as pd \n",
        "import io\n",
        "\n",
        "df = pd.read_csv('/content/drive/MyDrive/Datasets/properties_data.csv')\n",
        "df = df.set_index('id')\n",
        "df"
      ],
      "metadata": {
        "colab": {
          "base_uri": "https://localhost:8080/",
          "height": 727
        },
        "id": "yBDL1PXmLJf7",
        "outputId": "4446ecdf-b3ce-44d0-f1f1-370207cbf428"
      },
      "execution_count": 2,
      "outputs": [
        {
          "output_type": "execute_result",
          "data": {
            "text/plain": [
              "                              neighborhood   latitude  longitude    price  \\\n",
              "id                                                                          \n",
              "5528049                      Palm Jumeirah  25.113208  55.138932  2700000   \n",
              "6008529                      Palm Jumeirah  25.106809  55.151201  2850000   \n",
              "6034542               Jumeirah Lake Towers  25.063302  55.137728  1150000   \n",
              "6326063                    Culture Village  25.227295  55.341761  2850000   \n",
              "6356778                      Palm Jumeirah  25.114275  55.139764  1729200   \n",
              "...                                    ...        ...        ...      ...   \n",
              "7705450           Mohammed Bin Rashid City  25.176892  55.310712  1500000   \n",
              "7706287           Mohammed Bin Rashid City  25.166145  55.276684  1230000   \n",
              "7706389  Dubai Creek Harbour (The Lagoons)  25.206500  55.345056  2900000   \n",
              "7706591            Jumeirah Village Circle  25.073858  55.229844   675000   \n",
              "7706643               Jumeirah Lake Towers  25.079130  55.154713   760887   \n",
              "\n",
              "         size_in_sqft  price_per_sqft  no_of_bedrooms  no_of_bathrooms  \\\n",
              "id                                                                       \n",
              "5528049          1079         2502.32               1                2   \n",
              "6008529          1582         1801.52               2                2   \n",
              "6034542          1951          589.44               3                5   \n",
              "6326063          2020         1410.89               2                3   \n",
              "6356778           507         3410.65               0                1   \n",
              "...               ...             ...             ...              ...   \n",
              "7705450          1087         1379.94               2                2   \n",
              "7706287           760         1618.42               1                2   \n",
              "7706389          1930         1502.59               3                5   \n",
              "7706591           740          912.16               1                2   \n",
              "7706643           800          951.11               1                2   \n",
              "\n",
              "        quality  maid_room  ...  private_pool  security  shared_gym  \\\n",
              "id                          ...                                       \n",
              "5528049  Medium      False  ...         False     False        True   \n",
              "6008529  Medium      False  ...         False     False        True   \n",
              "6034542  Medium       True  ...         False      True        True   \n",
              "6326063     Low      False  ...         False     False       False   \n",
              "6356778  Medium      False  ...         False      True        True   \n",
              "...         ...        ...  ...           ...       ...         ...   \n",
              "7705450   Ultra      False  ...         False      True        True   \n",
              "7706287  Medium      False  ...         False     False        True   \n",
              "7706389  Medium       True  ...         False     False       False   \n",
              "7706591  Medium      False  ...         False      True        True   \n",
              "7706643    High      False  ...         False      True        True   \n",
              "\n",
              "         shared_pool  shared_spa  study  vastu_compliant  view_of_landmark  \\\n",
              "id                                                                           \n",
              "5528049        False       False  False            False             False   \n",
              "6008529         True       False  False            False             False   \n",
              "6034542         True       False  False            False              True   \n",
              "6326063        False       False  False            False             False   \n",
              "6356778         True        True  False            False              True   \n",
              "...              ...         ...    ...              ...               ...   \n",
              "7705450         True        True   True             True              True   \n",
              "7706287         True       False  False            False             False   \n",
              "7706389         True       False  False            False             False   \n",
              "7706591         True       False  False            False             False   \n",
              "7706643         True        True  False            False             False   \n",
              "\n",
              "         view_of_water  walk_in_closet  \n",
              "id                                      \n",
              "5528049           True           False  \n",
              "6008529           True           False  \n",
              "6034542           True            True  \n",
              "6326063          False           False  \n",
              "6356778           True           False  \n",
              "...                ...             ...  \n",
              "7705450           True            True  \n",
              "7706287           True            True  \n",
              "7706389          False           False  \n",
              "7706591           True            True  \n",
              "7706643           True           False  \n",
              "\n",
              "[1905 rows x 37 columns]"
            ],
            "text/html": [
              "\n",
              "  <div id=\"df-127cf714-75bf-4139-8516-f9bd0cf7ce87\">\n",
              "    <div class=\"colab-df-container\">\n",
              "      <div>\n",
              "<style scoped>\n",
              "    .dataframe tbody tr th:only-of-type {\n",
              "        vertical-align: middle;\n",
              "    }\n",
              "\n",
              "    .dataframe tbody tr th {\n",
              "        vertical-align: top;\n",
              "    }\n",
              "\n",
              "    .dataframe thead th {\n",
              "        text-align: right;\n",
              "    }\n",
              "</style>\n",
              "<table border=\"1\" class=\"dataframe\">\n",
              "  <thead>\n",
              "    <tr style=\"text-align: right;\">\n",
              "      <th></th>\n",
              "      <th>neighborhood</th>\n",
              "      <th>latitude</th>\n",
              "      <th>longitude</th>\n",
              "      <th>price</th>\n",
              "      <th>size_in_sqft</th>\n",
              "      <th>price_per_sqft</th>\n",
              "      <th>no_of_bedrooms</th>\n",
              "      <th>no_of_bathrooms</th>\n",
              "      <th>quality</th>\n",
              "      <th>maid_room</th>\n",
              "      <th>...</th>\n",
              "      <th>private_pool</th>\n",
              "      <th>security</th>\n",
              "      <th>shared_gym</th>\n",
              "      <th>shared_pool</th>\n",
              "      <th>shared_spa</th>\n",
              "      <th>study</th>\n",
              "      <th>vastu_compliant</th>\n",
              "      <th>view_of_landmark</th>\n",
              "      <th>view_of_water</th>\n",
              "      <th>walk_in_closet</th>\n",
              "    </tr>\n",
              "    <tr>\n",
              "      <th>id</th>\n",
              "      <th></th>\n",
              "      <th></th>\n",
              "      <th></th>\n",
              "      <th></th>\n",
              "      <th></th>\n",
              "      <th></th>\n",
              "      <th></th>\n",
              "      <th></th>\n",
              "      <th></th>\n",
              "      <th></th>\n",
              "      <th></th>\n",
              "      <th></th>\n",
              "      <th></th>\n",
              "      <th></th>\n",
              "      <th></th>\n",
              "      <th></th>\n",
              "      <th></th>\n",
              "      <th></th>\n",
              "      <th></th>\n",
              "      <th></th>\n",
              "      <th></th>\n",
              "    </tr>\n",
              "  </thead>\n",
              "  <tbody>\n",
              "    <tr>\n",
              "      <th>5528049</th>\n",
              "      <td>Palm Jumeirah</td>\n",
              "      <td>25.113208</td>\n",
              "      <td>55.138932</td>\n",
              "      <td>2700000</td>\n",
              "      <td>1079</td>\n",
              "      <td>2502.32</td>\n",
              "      <td>1</td>\n",
              "      <td>2</td>\n",
              "      <td>Medium</td>\n",
              "      <td>False</td>\n",
              "      <td>...</td>\n",
              "      <td>False</td>\n",
              "      <td>False</td>\n",
              "      <td>True</td>\n",
              "      <td>False</td>\n",
              "      <td>False</td>\n",
              "      <td>False</td>\n",
              "      <td>False</td>\n",
              "      <td>False</td>\n",
              "      <td>True</td>\n",
              "      <td>False</td>\n",
              "    </tr>\n",
              "    <tr>\n",
              "      <th>6008529</th>\n",
              "      <td>Palm Jumeirah</td>\n",
              "      <td>25.106809</td>\n",
              "      <td>55.151201</td>\n",
              "      <td>2850000</td>\n",
              "      <td>1582</td>\n",
              "      <td>1801.52</td>\n",
              "      <td>2</td>\n",
              "      <td>2</td>\n",
              "      <td>Medium</td>\n",
              "      <td>False</td>\n",
              "      <td>...</td>\n",
              "      <td>False</td>\n",
              "      <td>False</td>\n",
              "      <td>True</td>\n",
              "      <td>True</td>\n",
              "      <td>False</td>\n",
              "      <td>False</td>\n",
              "      <td>False</td>\n",
              "      <td>False</td>\n",
              "      <td>True</td>\n",
              "      <td>False</td>\n",
              "    </tr>\n",
              "    <tr>\n",
              "      <th>6034542</th>\n",
              "      <td>Jumeirah Lake Towers</td>\n",
              "      <td>25.063302</td>\n",
              "      <td>55.137728</td>\n",
              "      <td>1150000</td>\n",
              "      <td>1951</td>\n",
              "      <td>589.44</td>\n",
              "      <td>3</td>\n",
              "      <td>5</td>\n",
              "      <td>Medium</td>\n",
              "      <td>True</td>\n",
              "      <td>...</td>\n",
              "      <td>False</td>\n",
              "      <td>True</td>\n",
              "      <td>True</td>\n",
              "      <td>True</td>\n",
              "      <td>False</td>\n",
              "      <td>False</td>\n",
              "      <td>False</td>\n",
              "      <td>True</td>\n",
              "      <td>True</td>\n",
              "      <td>True</td>\n",
              "    </tr>\n",
              "    <tr>\n",
              "      <th>6326063</th>\n",
              "      <td>Culture Village</td>\n",
              "      <td>25.227295</td>\n",
              "      <td>55.341761</td>\n",
              "      <td>2850000</td>\n",
              "      <td>2020</td>\n",
              "      <td>1410.89</td>\n",
              "      <td>2</td>\n",
              "      <td>3</td>\n",
              "      <td>Low</td>\n",
              "      <td>False</td>\n",
              "      <td>...</td>\n",
              "      <td>False</td>\n",
              "      <td>False</td>\n",
              "      <td>False</td>\n",
              "      <td>False</td>\n",
              "      <td>False</td>\n",
              "      <td>False</td>\n",
              "      <td>False</td>\n",
              "      <td>False</td>\n",
              "      <td>False</td>\n",
              "      <td>False</td>\n",
              "    </tr>\n",
              "    <tr>\n",
              "      <th>6356778</th>\n",
              "      <td>Palm Jumeirah</td>\n",
              "      <td>25.114275</td>\n",
              "      <td>55.139764</td>\n",
              "      <td>1729200</td>\n",
              "      <td>507</td>\n",
              "      <td>3410.65</td>\n",
              "      <td>0</td>\n",
              "      <td>1</td>\n",
              "      <td>Medium</td>\n",
              "      <td>False</td>\n",
              "      <td>...</td>\n",
              "      <td>False</td>\n",
              "      <td>True</td>\n",
              "      <td>True</td>\n",
              "      <td>True</td>\n",
              "      <td>True</td>\n",
              "      <td>False</td>\n",
              "      <td>False</td>\n",
              "      <td>True</td>\n",
              "      <td>True</td>\n",
              "      <td>False</td>\n",
              "    </tr>\n",
              "    <tr>\n",
              "      <th>...</th>\n",
              "      <td>...</td>\n",
              "      <td>...</td>\n",
              "      <td>...</td>\n",
              "      <td>...</td>\n",
              "      <td>...</td>\n",
              "      <td>...</td>\n",
              "      <td>...</td>\n",
              "      <td>...</td>\n",
              "      <td>...</td>\n",
              "      <td>...</td>\n",
              "      <td>...</td>\n",
              "      <td>...</td>\n",
              "      <td>...</td>\n",
              "      <td>...</td>\n",
              "      <td>...</td>\n",
              "      <td>...</td>\n",
              "      <td>...</td>\n",
              "      <td>...</td>\n",
              "      <td>...</td>\n",
              "      <td>...</td>\n",
              "      <td>...</td>\n",
              "    </tr>\n",
              "    <tr>\n",
              "      <th>7705450</th>\n",
              "      <td>Mohammed Bin Rashid City</td>\n",
              "      <td>25.176892</td>\n",
              "      <td>55.310712</td>\n",
              "      <td>1500000</td>\n",
              "      <td>1087</td>\n",
              "      <td>1379.94</td>\n",
              "      <td>2</td>\n",
              "      <td>2</td>\n",
              "      <td>Ultra</td>\n",
              "      <td>False</td>\n",
              "      <td>...</td>\n",
              "      <td>False</td>\n",
              "      <td>True</td>\n",
              "      <td>True</td>\n",
              "      <td>True</td>\n",
              "      <td>True</td>\n",
              "      <td>True</td>\n",
              "      <td>True</td>\n",
              "      <td>True</td>\n",
              "      <td>True</td>\n",
              "      <td>True</td>\n",
              "    </tr>\n",
              "    <tr>\n",
              "      <th>7706287</th>\n",
              "      <td>Mohammed Bin Rashid City</td>\n",
              "      <td>25.166145</td>\n",
              "      <td>55.276684</td>\n",
              "      <td>1230000</td>\n",
              "      <td>760</td>\n",
              "      <td>1618.42</td>\n",
              "      <td>1</td>\n",
              "      <td>2</td>\n",
              "      <td>Medium</td>\n",
              "      <td>False</td>\n",
              "      <td>...</td>\n",
              "      <td>False</td>\n",
              "      <td>False</td>\n",
              "      <td>True</td>\n",
              "      <td>True</td>\n",
              "      <td>False</td>\n",
              "      <td>False</td>\n",
              "      <td>False</td>\n",
              "      <td>False</td>\n",
              "      <td>True</td>\n",
              "      <td>True</td>\n",
              "    </tr>\n",
              "    <tr>\n",
              "      <th>7706389</th>\n",
              "      <td>Dubai Creek Harbour (The Lagoons)</td>\n",
              "      <td>25.206500</td>\n",
              "      <td>55.345056</td>\n",
              "      <td>2900000</td>\n",
              "      <td>1930</td>\n",
              "      <td>1502.59</td>\n",
              "      <td>3</td>\n",
              "      <td>5</td>\n",
              "      <td>Medium</td>\n",
              "      <td>True</td>\n",
              "      <td>...</td>\n",
              "      <td>False</td>\n",
              "      <td>False</td>\n",
              "      <td>False</td>\n",
              "      <td>True</td>\n",
              "      <td>False</td>\n",
              "      <td>False</td>\n",
              "      <td>False</td>\n",
              "      <td>False</td>\n",
              "      <td>False</td>\n",
              "      <td>False</td>\n",
              "    </tr>\n",
              "    <tr>\n",
              "      <th>7706591</th>\n",
              "      <td>Jumeirah Village Circle</td>\n",
              "      <td>25.073858</td>\n",
              "      <td>55.229844</td>\n",
              "      <td>675000</td>\n",
              "      <td>740</td>\n",
              "      <td>912.16</td>\n",
              "      <td>1</td>\n",
              "      <td>2</td>\n",
              "      <td>Medium</td>\n",
              "      <td>False</td>\n",
              "      <td>...</td>\n",
              "      <td>False</td>\n",
              "      <td>True</td>\n",
              "      <td>True</td>\n",
              "      <td>True</td>\n",
              "      <td>False</td>\n",
              "      <td>False</td>\n",
              "      <td>False</td>\n",
              "      <td>False</td>\n",
              "      <td>True</td>\n",
              "      <td>True</td>\n",
              "    </tr>\n",
              "    <tr>\n",
              "      <th>7706643</th>\n",
              "      <td>Jumeirah Lake Towers</td>\n",
              "      <td>25.079130</td>\n",
              "      <td>55.154713</td>\n",
              "      <td>760887</td>\n",
              "      <td>800</td>\n",
              "      <td>951.11</td>\n",
              "      <td>1</td>\n",
              "      <td>2</td>\n",
              "      <td>High</td>\n",
              "      <td>False</td>\n",
              "      <td>...</td>\n",
              "      <td>False</td>\n",
              "      <td>True</td>\n",
              "      <td>True</td>\n",
              "      <td>True</td>\n",
              "      <td>True</td>\n",
              "      <td>False</td>\n",
              "      <td>False</td>\n",
              "      <td>False</td>\n",
              "      <td>True</td>\n",
              "      <td>False</td>\n",
              "    </tr>\n",
              "  </tbody>\n",
              "</table>\n",
              "<p>1905 rows × 37 columns</p>\n",
              "</div>\n",
              "      <button class=\"colab-df-convert\" onclick=\"convertToInteractive('df-127cf714-75bf-4139-8516-f9bd0cf7ce87')\"\n",
              "              title=\"Convert this dataframe to an interactive table.\"\n",
              "              style=\"display:none;\">\n",
              "        \n",
              "  <svg xmlns=\"http://www.w3.org/2000/svg\" height=\"24px\"viewBox=\"0 0 24 24\"\n",
              "       width=\"24px\">\n",
              "    <path d=\"M0 0h24v24H0V0z\" fill=\"none\"/>\n",
              "    <path d=\"M18.56 5.44l.94 2.06.94-2.06 2.06-.94-2.06-.94-.94-2.06-.94 2.06-2.06.94zm-11 1L8.5 8.5l.94-2.06 2.06-.94-2.06-.94L8.5 2.5l-.94 2.06-2.06.94zm10 10l.94 2.06.94-2.06 2.06-.94-2.06-.94-.94-2.06-.94 2.06-2.06.94z\"/><path d=\"M17.41 7.96l-1.37-1.37c-.4-.4-.92-.59-1.43-.59-.52 0-1.04.2-1.43.59L10.3 9.45l-7.72 7.72c-.78.78-.78 2.05 0 2.83L4 21.41c.39.39.9.59 1.41.59.51 0 1.02-.2 1.41-.59l7.78-7.78 2.81-2.81c.8-.78.8-2.07 0-2.86zM5.41 20L4 18.59l7.72-7.72 1.47 1.35L5.41 20z\"/>\n",
              "  </svg>\n",
              "      </button>\n",
              "      \n",
              "  <style>\n",
              "    .colab-df-container {\n",
              "      display:flex;\n",
              "      flex-wrap:wrap;\n",
              "      gap: 12px;\n",
              "    }\n",
              "\n",
              "    .colab-df-convert {\n",
              "      background-color: #E8F0FE;\n",
              "      border: none;\n",
              "      border-radius: 50%;\n",
              "      cursor: pointer;\n",
              "      display: none;\n",
              "      fill: #1967D2;\n",
              "      height: 32px;\n",
              "      padding: 0 0 0 0;\n",
              "      width: 32px;\n",
              "    }\n",
              "\n",
              "    .colab-df-convert:hover {\n",
              "      background-color: #E2EBFA;\n",
              "      box-shadow: 0px 1px 2px rgba(60, 64, 67, 0.3), 0px 1px 3px 1px rgba(60, 64, 67, 0.15);\n",
              "      fill: #174EA6;\n",
              "    }\n",
              "\n",
              "    [theme=dark] .colab-df-convert {\n",
              "      background-color: #3B4455;\n",
              "      fill: #D2E3FC;\n",
              "    }\n",
              "\n",
              "    [theme=dark] .colab-df-convert:hover {\n",
              "      background-color: #434B5C;\n",
              "      box-shadow: 0px 1px 3px 1px rgba(0, 0, 0, 0.15);\n",
              "      filter: drop-shadow(0px 1px 2px rgba(0, 0, 0, 0.3));\n",
              "      fill: #FFFFFF;\n",
              "    }\n",
              "  </style>\n",
              "\n",
              "      <script>\n",
              "        const buttonEl =\n",
              "          document.querySelector('#df-127cf714-75bf-4139-8516-f9bd0cf7ce87 button.colab-df-convert');\n",
              "        buttonEl.style.display =\n",
              "          google.colab.kernel.accessAllowed ? 'block' : 'none';\n",
              "\n",
              "        async function convertToInteractive(key) {\n",
              "          const element = document.querySelector('#df-127cf714-75bf-4139-8516-f9bd0cf7ce87');\n",
              "          const dataTable =\n",
              "            await google.colab.kernel.invokeFunction('convertToInteractive',\n",
              "                                                     [key], {});\n",
              "          if (!dataTable) return;\n",
              "\n",
              "          const docLinkHtml = 'Like what you see? Visit the ' +\n",
              "            '<a target=\"_blank\" href=https://colab.research.google.com/notebooks/data_table.ipynb>data table notebook</a>'\n",
              "            + ' to learn more about interactive tables.';\n",
              "          element.innerHTML = '';\n",
              "          dataTable['output_type'] = 'display_data';\n",
              "          await google.colab.output.renderOutput(dataTable, element);\n",
              "          const docLink = document.createElement('div');\n",
              "          docLink.innerHTML = docLinkHtml;\n",
              "          element.appendChild(docLink);\n",
              "        }\n",
              "      </script>\n",
              "    </div>\n",
              "  </div>\n",
              "  "
            ]
          },
          "metadata": {},
          "execution_count": 2
        }
      ]
    },
    {
      "cell_type": "code",
      "source": [
        "df.info()"
      ],
      "metadata": {
        "colab": {
          "base_uri": "https://localhost:8080/"
        },
        "id": "nuRZ3jswLjAu",
        "outputId": "0eb23d36-b44a-4ae3-9912-1c6e308420a2"
      },
      "execution_count": 3,
      "outputs": [
        {
          "output_type": "stream",
          "name": "stdout",
          "text": [
            "<class 'pandas.core.frame.DataFrame'>\n",
            "Int64Index: 1905 entries, 5528049 to 7706643\n",
            "Data columns (total 37 columns):\n",
            " #   Column               Non-Null Count  Dtype  \n",
            "---  ------               --------------  -----  \n",
            " 0   neighborhood         1905 non-null   object \n",
            " 1   latitude             1905 non-null   float64\n",
            " 2   longitude            1905 non-null   float64\n",
            " 3   price                1905 non-null   int64  \n",
            " 4   size_in_sqft         1905 non-null   int64  \n",
            " 5   price_per_sqft       1905 non-null   float64\n",
            " 6   no_of_bedrooms       1905 non-null   int64  \n",
            " 7   no_of_bathrooms      1905 non-null   int64  \n",
            " 8   quality              1905 non-null   object \n",
            " 9   maid_room            1905 non-null   bool   \n",
            " 10  unfurnished          1905 non-null   bool   \n",
            " 11  balcony              1905 non-null   bool   \n",
            " 12  barbecue_area        1905 non-null   bool   \n",
            " 13  built_in_wardrobes   1905 non-null   bool   \n",
            " 14  central_ac           1905 non-null   bool   \n",
            " 15  childrens_play_area  1905 non-null   bool   \n",
            " 16  childrens_pool       1905 non-null   bool   \n",
            " 17  concierge            1905 non-null   bool   \n",
            " 18  covered_parking      1905 non-null   bool   \n",
            " 19  kitchen_appliances   1905 non-null   bool   \n",
            " 20  lobby_in_building    1905 non-null   bool   \n",
            " 21  maid_service         1905 non-null   bool   \n",
            " 22  networked            1905 non-null   bool   \n",
            " 23  pets_allowed         1905 non-null   bool   \n",
            " 24  private_garden       1905 non-null   bool   \n",
            " 25  private_gym          1905 non-null   bool   \n",
            " 26  private_jacuzzi      1905 non-null   bool   \n",
            " 27  private_pool         1905 non-null   bool   \n",
            " 28  security             1905 non-null   bool   \n",
            " 29  shared_gym           1905 non-null   bool   \n",
            " 30  shared_pool          1905 non-null   bool   \n",
            " 31  shared_spa           1905 non-null   bool   \n",
            " 32  study                1905 non-null   bool   \n",
            " 33  vastu_compliant      1905 non-null   bool   \n",
            " 34  view_of_landmark     1905 non-null   bool   \n",
            " 35  view_of_water        1905 non-null   bool   \n",
            " 36  walk_in_closet       1905 non-null   bool   \n",
            "dtypes: bool(28), float64(3), int64(4), object(2)\n",
            "memory usage: 200.9+ KB\n"
          ]
        }
      ]
    },
    {
      "cell_type": "code",
      "source": [
        "import matplotlib.pyplot as plt\n",
        "\n",
        "df.hist(bins = 50, figsize = (12,8))\n",
        "plt.show"
      ],
      "metadata": {
        "colab": {
          "base_uri": "https://localhost:8080/",
          "height": 516
        },
        "id": "U5QNTwN5NKfF",
        "outputId": "c4e5385d-14d7-4094-fe11-c2e504701829"
      },
      "execution_count": 4,
      "outputs": [
        {
          "output_type": "execute_result",
          "data": {
            "text/plain": [
              "<function matplotlib.pyplot.show>"
            ]
          },
          "metadata": {},
          "execution_count": 4
        },
        {
          "output_type": "display_data",
          "data": {
            "text/plain": [
              "<Figure size 864x576 with 9 Axes>"
            ],
            "image/png": "[encoded data removed]"
          },
          "metadata": {
            "needs_background": "light"
          }
        }
      ]
    },
    {
      "cell_type": "code",
      "source": [
        "import numpy as np\n",
        "df['size_cut'] = pd.qcut(df['size_in_sqft'], q = [0., 0.2, 0.4, 0.6, 0.8, 1.], labels = [1,2,3,4,5])\n",
        "\n",
        "df['size_cut'].value_counts().sort_index().plot.bar(grid = True)\n",
        "plt.xlabel('Price Category')\n",
        "plt.ylabel('Number of Apartments')\n",
        "plt.show()"
      ],
      "metadata": {
        "colab": {
          "base_uri": "https://localhost:8080/",
          "height": 280
        },
        "id": "TjYAHjxwNKhd",
        "outputId": "9dc9a4f9-973f-4ff5-d22d-001342956626"
      },
      "execution_count": 5,
      "outputs": [
        {
          "output_type": "display_data",
          "data": {
            "text/plain": [
              "<Figure size 432x288 with 1 Axes>"
            ],
            "image/png": "[encoded data removed]"
          },
          "metadata": {
            "needs_background": "light"
          }
        }
      ]
    },
    {
      "cell_type": "code",
      "source": [
        "from sklearn.model_selection import train_test_split\n",
        "\n",
        "strat_train_set, strat_test_set = train_test_split(df, test_size = 0.2, stratify = df['size_cut'])"
      ],
      "metadata": {
        "id": "9mu9J9p1NKjr"
      },
      "execution_count": 6,
      "outputs": []
    },
    {
      "cell_type": "code",
      "source": [
        "for i in (strat_train_set, strat_test_set):\n",
        "  i.drop('size_cut', axis = 1, inplace=True)"
      ],
      "metadata": {
        "id": "V4ePZb-gNKly"
      },
      "execution_count": 7,
      "outputs": []
    },
    {
      "cell_type": "code",
      "source": [
        "dubai = strat_train_set.copy()\n",
        "\n",
        "dubai.plot(kind = 'scatter', x = 'longitude', y = 'latitude', grid = True, alpha = 0.2)\n",
        "plt.show()"
      ],
      "metadata": {
        "colab": {
          "base_uri": "https://localhost:8080/",
          "height": 279
        },
        "id": "vkouVmKpCSpj",
        "outputId": "438c7578-b1de-46ce-91c0-76ea8df8ca93"
      },
      "execution_count": 8,
      "outputs": [
        {
          "output_type": "display_data",
          "data": {
            "text/plain": [
              "<Figure size 432x288 with 1 Axes>"
            ],
            "image/png": "[encoded data removed]"
          },
          "metadata": {
            "needs_background": "light"
          }
        }
      ]
    },
    {
      "cell_type": "code",
      "source": [
        "corr_matrix = dubai.corr()\n",
        "corr_matrix['price'].sort_values()"
      ],
      "metadata": {
        "colab": {
          "base_uri": "https://localhost:8080/"
        },
        "id": "IgjOArRxDoT1",
        "outputId": "0b768a25-decc-4ffe-dae4-e17f6d0633e6"
      },
      "execution_count": 9,
      "outputs": [
        {
          "output_type": "execute_result",
          "data": {
            "text/plain": [
              "pets_allowed          -0.139719\n",
              "shared_pool           -0.101972\n",
              "lobby_in_building     -0.099278\n",
              "childrens_pool        -0.094375\n",
              "childrens_play_area   -0.092966\n",
              "security              -0.090100\n",
              "vastu_compliant       -0.087158\n",
              "networked             -0.083697\n",
              "barbecue_area         -0.080690\n",
              "shared_gym            -0.067701\n",
              "walk_in_closet        -0.043179\n",
              "kitchen_appliances    -0.026026\n",
              "shared_spa            -0.024323\n",
              "longitude             -0.015605\n",
              "view_of_landmark      -0.008801\n",
              "maid_service          -0.005073\n",
              "study                 -0.004698\n",
              "private_garden         0.009394\n",
              "balcony                0.014488\n",
              "covered_parking        0.020261\n",
              "private_jacuzzi        0.032687\n",
              "central_ac             0.047001\n",
              "unfurnished            0.058239\n",
              "view_of_water          0.063717\n",
              "built_in_wardrobes     0.071429\n",
              "maid_room              0.102803\n",
              "concierge              0.111828\n",
              "private_gym            0.135800\n",
              "latitude               0.198247\n",
              "private_pool           0.335699\n",
              "no_of_bathrooms        0.496411\n",
              "no_of_bedrooms         0.511490\n",
              "price_per_sqft         0.699837\n",
              "size_in_sqft           0.809599\n",
              "price                  1.000000\n",
              "Name: price, dtype: float64"
            ]
          },
          "metadata": {},
          "execution_count": 9
        }
      ]
    },
    {
      "cell_type": "code",
      "source": [
        "from pandas.plotting import scatter_matrix\n",
        "\n",
        "attributes = ['private_pool', 'no_of_bathrooms', 'no_of_bedrooms', 'size_in_sqft']\n",
        "\n",
        "scatter_matrix(dubai[['size_in_sqft', 'price_per_sqft', 'latitude']])\n",
        "plt.show()"
      ],
      "metadata": {
        "colab": {
          "base_uri": "https://localhost:8080/",
          "height": 290
        },
        "id": "JNSDEngdDoWJ",
        "outputId": "c26ecf42-6810-4022-c355-9e9a70b6c9c9"
      },
      "execution_count": 10,
      "outputs": [
        {
          "output_type": "display_data",
          "data": {
            "text/plain": [
              "<Figure size 432x288 with 9 Axes>"
            ],
            "image/png": "[encoded data removed]"
          },
          "metadata": {
            "needs_background": "light"
          }
        }
      ]
    },
    {
      "cell_type": "code",
      "source": [
        "scale_mapper = {'Low':1, 'Medium':2, 'High': 3, 'Ultra': 4}\n",
        "\n",
        "dubai['quality'] = df['quality'].replace(scale_mapper)\n",
        "\n"
      ],
      "metadata": {
        "id": "k1Y3tK6RDoYY"
      },
      "execution_count": 11,
      "outputs": []
    },
    {
      "cell_type": "code",
      "source": [
        "dubai_exp = dubai.copy()\n",
        "from sklearn.metrics.pairwise import rbf_kernel\n",
        "\n",
        "dubai_exp = rbf_kernel(dubai_exp[[\"latitude\"]], [[25.075]], gamma=0.1)\n",
        "\n",
        "dubai_exp\n",
        "\n"
      ],
      "metadata": {
        "id": "jwLr1PDyDoby",
        "colab": {
          "base_uri": "https://localhost:8080/"
        },
        "outputId": "031ba453-b558-457b-de43-203bc0538699"
      },
      "execution_count": 12,
      "outputs": [
        {
          "output_type": "execute_result",
          "data": {
            "text/plain": [
              "array([[0.99864593],\n",
              "       [0.99984576],\n",
              "       [0.99999674],\n",
              "       ...,\n",
              "       [0.99974387],\n",
              "       [0.99999368],\n",
              "       [0.99858417]])"
            ]
          },
          "metadata": {},
          "execution_count": 12
        }
      ]
    },
    {
      "cell_type": "code",
      "source": [
        "# Housing is dubai data, without the independent variable, price\n",
        "# Housing label is just the price of column\n",
        "housing = dubai.drop('price', axis = 1)\n",
        "housing_label = dubai['price'].copy()\n",
        "\n",
        "plt.scatter(housing['size_in_sqft'], housing_label)\n",
        "plt.show()"
      ],
      "metadata": {
        "colab": {
          "base_uri": "https://localhost:8080/",
          "height": 276
        },
        "id": "4DOP3QNvAWnb",
        "outputId": "abe7b284-df7f-44ad-d232-46f166ba1d7c"
      },
      "execution_count": 13,
      "outputs": [
        {
          "output_type": "display_data",
          "data": {
            "text/plain": [
              "<Figure size 432x288 with 1 Axes>"
            ],
            "image/png": "[encoded data removed]"
          },
          "metadata": {
            "needs_background": "light"
          }
        }
      ]
    },
    {
      "cell_type": "code",
      "source": [
        "# Feature Engineering: Standardization. Sometimes, the range of the values of the attributes \n",
        "# is too much/varied, which decreases the validity/accuracy of model/predictions\n",
        "# so we scale the variables. Here I have used standardization to scale the values.\n",
        "# Here, I have scaled both the dependent and independent variables\n",
        "\n",
        "from sklearn.compose import TransformedTargetRegressor\n",
        "from sklearn.linear_model import LinearRegression\n",
        "from sklearn.preprocessing import StandardScaler\n",
        "\n",
        "some_new_data = dubai[['size_in_sqft']].iloc[:5]\n",
        "\n",
        "model = TransformedTargetRegressor(LinearRegression(), \n",
        "                                   transformer = StandardScaler())\n",
        "\n",
        "model.fit(housing[['size_in_sqft']], housing_label)\n",
        "predictions = model.predict(some_new_data)"
      ],
      "metadata": {
        "id": "0BvY6zlc-hu4"
      },
      "execution_count": 14,
      "outputs": []
    },
    {
      "cell_type": "code",
      "source": [
        "type(housing['size_in_sqft'])"
      ],
      "metadata": {
        "colab": {
          "base_uri": "https://localhost:8080/"
        },
        "id": "NTeKYSjGVYTH",
        "outputId": "ccae7f98-78e4-49e2-fd88-2bdcd57bc038"
      },
      "execution_count": 15,
      "outputs": [
        {
          "output_type": "execute_result",
          "data": {
            "text/plain": [
              "pandas.core.series.Series"
            ]
          },
          "metadata": {},
          "execution_count": 15
        }
      ]
    },
    {
      "cell_type": "code",
      "source": [
        "# Custom Transformers\n",
        "# Sometimes, the transformation that are required while scaling may not be available. \n",
        "# So we have to create our own \n",
        "# Here, I have used Function Transformer\n",
        "\n",
        "from sklearn.preprocessing import FunctionTransformer\n",
        "\n",
        "log_transformer = FunctionTransformer(np.log)\n",
        "\n",
        "log_size_sqft = log_transformer.transform(housing[['size_in_sqft']])"
      ],
      "metadata": {
        "id": "hZSH6N3UNpV_"
      },
      "execution_count": 33,
      "outputs": []
    },
    {
      "cell_type": "code",
      "source": [
        "from sklearn.base import BaseEstimator, TransformerMixin\n",
        "# Creating a custom transformer using class\n",
        "# Here, I have tried to create a custom class for min-max scaling\n",
        "# between the range -1 and 1\n",
        "\n",
        "class MinMaxScaleClone(BaseEstimator, TransformerMixin)"
      ],
      "metadata": {
        "id": "4fh96lWGfjBG"
      },
      "execution_count": null,
      "outputs": []
    },
    {
      "cell_type": "code",
      "source": [
        ""
      ],
      "metadata": {
        "id": "1QCpnmxmfi4U"
      },
      "execution_count": null,
      "outputs": []
    },
    {
      "cell_type": "code",
      "source": [
        "from sklearn.preprocessing import StandardScaler\n",
        "\n",
        "scaler = StandardScaler()\n",
        "\n",
        "\n",
        "X = np.array([1,2,3,4,5,6,7,8])\n",
        "y = np.array([1,5,10,15,27,38,51,66])\n",
        "\n",
        "scale = StandardScaler()\n",
        "\n",
        "scaler.fit(X.reshape(-1,1))\n",
        "print(scaler.transform(X.reshape(-1,1)))\n",
        "\n"
      ],
      "metadata": {
        "colab": {
          "base_uri": "https://localhost:8080/"
        },
        "id": "LtnL3S8sN0KA",
        "outputId": "8b50d7dd-107c-4c9e-d4b7-07af2a3dbf14"
      },
      "execution_count": 31,
      "outputs": [
        {
          "output_type": "stream",
          "name": "stdout",
          "text": [
            "[[-1.52752523]\n",
            " [-1.09108945]\n",
            " [-0.65465367]\n",
            " [-0.21821789]\n",
            " [ 0.21821789]\n",
            " [ 0.65465367]\n",
            " [ 1.09108945]\n",
            " [ 1.52752523]]\n"
          ]
        }
      ]
    }
  ]
}